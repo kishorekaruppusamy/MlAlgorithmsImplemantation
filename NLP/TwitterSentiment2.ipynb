{
 "cells": [
  {
   "cell_type": "code",
   "execution_count": 93,
   "metadata": {},
   "outputs": [],
   "source": [
    "import pandas as pd\n",
    "import re\n",
    "import warnings\n",
    "import numpy as np\n",
    "from matplotlib import pyplot as plt\n",
    "\n",
    "import nltk\n",
    "from nltk.corpus import stopwords\n",
    "from nltk.stem import WordNetLemmatizer\n",
    "from nltk.stem import SnowballStemmer\n",
    "\n",
    "from sklearn.model_selection import train_test_split\n",
    "from sklearn.feature_extraction.text import TfidfVectorizer\n",
    "from sklearn.decomposition import PCA\n",
    "from sklearn.preprocessing import StandardScaler\n",
    "\n",
    "from torch import nn\n",
    "import torch\n",
    "from torch.utils.data import DataLoader\n",
    "from torch.utils.data import Dataset, DataLoader"
   ]
  },
  {
   "cell_type": "code",
   "execution_count": 94,
   "metadata": {},
   "outputs": [
    {
     "name": "stderr",
     "output_type": "stream",
     "text": [
      "[nltk_data] Downloading package stopwords to /Users/kishore-\n",
      "[nltk_data]     pt5635/nltk_data...\n",
      "[nltk_data]   Package stopwords is already up-to-date!\n"
     ]
    },
    {
     "data": {
      "text/plain": [
       "True"
      ]
     },
     "execution_count": 94,
     "metadata": {},
     "output_type": "execute_result"
    }
   ],
   "source": [
    "nltk.download(\"stopwords\")"
   ]
  },
  {
   "cell_type": "code",
   "execution_count": 95,
   "metadata": {},
   "outputs": [],
   "source": [
    "df = pd.read_csv(\"TwitterSentiment.csv\", encoding=\"latin\", header=None)"
   ]
  },
  {
   "cell_type": "code",
   "execution_count": 96,
   "metadata": {},
   "outputs": [
    {
     "data": {
      "text/html": [
       "<div>\n",
       "<style scoped>\n",
       "    .dataframe tbody tr th:only-of-type {\n",
       "        vertical-align: middle;\n",
       "    }\n",
       "\n",
       "    .dataframe tbody tr th {\n",
       "        vertical-align: top;\n",
       "    }\n",
       "\n",
       "    .dataframe thead th {\n",
       "        text-align: right;\n",
       "    }\n",
       "</style>\n",
       "<table border=\"1\" class=\"dataframe\">\n",
       "  <thead>\n",
       "    <tr style=\"text-align: right;\">\n",
       "      <th></th>\n",
       "      <th>0</th>\n",
       "      <th>1</th>\n",
       "      <th>2</th>\n",
       "      <th>3</th>\n",
       "      <th>4</th>\n",
       "      <th>5</th>\n",
       "    </tr>\n",
       "  </thead>\n",
       "  <tbody>\n",
       "    <tr>\n",
       "      <th>0</th>\n",
       "      <td>0</td>\n",
       "      <td>1467810369</td>\n",
       "      <td>Mon Apr 06 22:19:45 PDT 2009</td>\n",
       "      <td>NO_QUERY</td>\n",
       "      <td>_TheSpecialOne_</td>\n",
       "      <td>@switchfoot http://twitpic.com/2y1zl - Awww, t...</td>\n",
       "    </tr>\n",
       "    <tr>\n",
       "      <th>1</th>\n",
       "      <td>0</td>\n",
       "      <td>1467810672</td>\n",
       "      <td>Mon Apr 06 22:19:49 PDT 2009</td>\n",
       "      <td>NO_QUERY</td>\n",
       "      <td>scotthamilton</td>\n",
       "      <td>is upset that he can't update his Facebook by ...</td>\n",
       "    </tr>\n",
       "    <tr>\n",
       "      <th>2</th>\n",
       "      <td>0</td>\n",
       "      <td>1467810917</td>\n",
       "      <td>Mon Apr 06 22:19:53 PDT 2009</td>\n",
       "      <td>NO_QUERY</td>\n",
       "      <td>mattycus</td>\n",
       "      <td>@Kenichan I dived many times for the ball. Man...</td>\n",
       "    </tr>\n",
       "    <tr>\n",
       "      <th>3</th>\n",
       "      <td>0</td>\n",
       "      <td>1467811184</td>\n",
       "      <td>Mon Apr 06 22:19:57 PDT 2009</td>\n",
       "      <td>NO_QUERY</td>\n",
       "      <td>ElleCTF</td>\n",
       "      <td>my whole body feels itchy and like its on fire</td>\n",
       "    </tr>\n",
       "    <tr>\n",
       "      <th>4</th>\n",
       "      <td>0</td>\n",
       "      <td>1467811193</td>\n",
       "      <td>Mon Apr 06 22:19:57 PDT 2009</td>\n",
       "      <td>NO_QUERY</td>\n",
       "      <td>Karoli</td>\n",
       "      <td>@nationwideclass no, it's not behaving at all....</td>\n",
       "    </tr>\n",
       "  </tbody>\n",
       "</table>\n",
       "</div>"
      ],
      "text/plain": [
       "   0           1                             2         3                4   \n",
       "0  0  1467810369  Mon Apr 06 22:19:45 PDT 2009  NO_QUERY  _TheSpecialOne_  \\\n",
       "1  0  1467810672  Mon Apr 06 22:19:49 PDT 2009  NO_QUERY    scotthamilton   \n",
       "2  0  1467810917  Mon Apr 06 22:19:53 PDT 2009  NO_QUERY         mattycus   \n",
       "3  0  1467811184  Mon Apr 06 22:19:57 PDT 2009  NO_QUERY          ElleCTF   \n",
       "4  0  1467811193  Mon Apr 06 22:19:57 PDT 2009  NO_QUERY           Karoli   \n",
       "\n",
       "                                                   5  \n",
       "0  @switchfoot http://twitpic.com/2y1zl - Awww, t...  \n",
       "1  is upset that he can't update his Facebook by ...  \n",
       "2  @Kenichan I dived many times for the ball. Man...  \n",
       "3    my whole body feels itchy and like its on fire   \n",
       "4  @nationwideclass no, it's not behaving at all....  "
      ]
     },
     "execution_count": 96,
     "metadata": {},
     "output_type": "execute_result"
    }
   ],
   "source": [
    "df.head()"
   ]
  },
  {
   "cell_type": "code",
   "execution_count": 5,
   "metadata": {},
   "outputs": [
    {
     "data": {
      "text/plain": [
       "3200"
      ]
     },
     "execution_count": 5,
     "metadata": {},
     "output_type": "execute_result"
    }
   ],
   "source": [
    "df = df.sample(frac=0.002, ignore_index=True)\n",
    "len(df)"
   ]
  },
  {
   "cell_type": "code",
   "execution_count": 97,
   "metadata": {},
   "outputs": [
    {
     "data": {
      "text/html": [
       "<div>\n",
       "<style scoped>\n",
       "    .dataframe tbody tr th:only-of-type {\n",
       "        vertical-align: middle;\n",
       "    }\n",
       "\n",
       "    .dataframe tbody tr th {\n",
       "        vertical-align: top;\n",
       "    }\n",
       "\n",
       "    .dataframe thead th {\n",
       "        text-align: right;\n",
       "    }\n",
       "</style>\n",
       "<table border=\"1\" class=\"dataframe\">\n",
       "  <thead>\n",
       "    <tr style=\"text-align: right;\">\n",
       "      <th></th>\n",
       "      <th>sentiment</th>\n",
       "      <th>tweet</th>\n",
       "    </tr>\n",
       "  </thead>\n",
       "  <tbody>\n",
       "    <tr>\n",
       "      <th>0</th>\n",
       "      <td>0</td>\n",
       "      <td>@switchfoot http://twitpic.com/2y1zl - Awww, t...</td>\n",
       "    </tr>\n",
       "    <tr>\n",
       "      <th>1</th>\n",
       "      <td>0</td>\n",
       "      <td>is upset that he can't update his Facebook by ...</td>\n",
       "    </tr>\n",
       "    <tr>\n",
       "      <th>2</th>\n",
       "      <td>0</td>\n",
       "      <td>@Kenichan I dived many times for the ball. Man...</td>\n",
       "    </tr>\n",
       "    <tr>\n",
       "      <th>3</th>\n",
       "      <td>0</td>\n",
       "      <td>my whole body feels itchy and like its on fire</td>\n",
       "    </tr>\n",
       "    <tr>\n",
       "      <th>4</th>\n",
       "      <td>0</td>\n",
       "      <td>@nationwideclass no, it's not behaving at all....</td>\n",
       "    </tr>\n",
       "  </tbody>\n",
       "</table>\n",
       "</div>"
      ],
      "text/plain": [
       "   sentiment                                              tweet\n",
       "0          0  @switchfoot http://twitpic.com/2y1zl - Awww, t...\n",
       "1          0  is upset that he can't update his Facebook by ...\n",
       "2          0  @Kenichan I dived many times for the ball. Man...\n",
       "3          0    my whole body feels itchy and like its on fire \n",
       "4          0  @nationwideclass no, it's not behaving at all...."
      ]
     },
     "execution_count": 97,
     "metadata": {},
     "output_type": "execute_result"
    }
   ],
   "source": [
    "df.columns = [\"sentiment\", \"tweetid\", \"time\", \"query\", \"userid\", \"tweet\"]\n",
    "df = df.drop([\"tweetid\", \"time\", \"query\", \"userid\"], axis=1)\n",
    "df.head()"
   ]
  },
  {
   "cell_type": "code",
   "execution_count": 98,
   "metadata": {},
   "outputs": [
    {
     "data": {
      "text/plain": [
       "array([0, 4])"
      ]
     },
     "execution_count": 98,
     "metadata": {},
     "output_type": "execute_result"
    }
   ],
   "source": [
    "df.sentiment.unique()"
   ]
  },
  {
   "cell_type": "code",
   "execution_count": 99,
   "metadata": {},
   "outputs": [],
   "source": [
    "labels = {0: 0, 4: 1}\n",
    "def label_encoder(label):\n",
    "    return labels[label]\n",
    "\n",
    "df.sentiment = df.sentiment.apply(lambda x : label_encoder(x))"
   ]
  },
  {
   "cell_type": "code",
   "execution_count": 100,
   "metadata": {},
   "outputs": [
    {
     "data": {
      "text/html": [
       "<div>\n",
       "<style scoped>\n",
       "    .dataframe tbody tr th:only-of-type {\n",
       "        vertical-align: middle;\n",
       "    }\n",
       "\n",
       "    .dataframe tbody tr th {\n",
       "        vertical-align: top;\n",
       "    }\n",
       "\n",
       "    .dataframe thead th {\n",
       "        text-align: right;\n",
       "    }\n",
       "</style>\n",
       "<table border=\"1\" class=\"dataframe\">\n",
       "  <thead>\n",
       "    <tr style=\"text-align: right;\">\n",
       "      <th></th>\n",
       "      <th>sentiment</th>\n",
       "      <th>tweet</th>\n",
       "    </tr>\n",
       "  </thead>\n",
       "  <tbody>\n",
       "    <tr>\n",
       "      <th>0</th>\n",
       "      <td>0</td>\n",
       "      <td>@switchfoot http://twitpic.com/2y1zl - Awww, t...</td>\n",
       "    </tr>\n",
       "    <tr>\n",
       "      <th>1</th>\n",
       "      <td>0</td>\n",
       "      <td>is upset that he can't update his Facebook by ...</td>\n",
       "    </tr>\n",
       "    <tr>\n",
       "      <th>2</th>\n",
       "      <td>0</td>\n",
       "      <td>@Kenichan I dived many times for the ball. Man...</td>\n",
       "    </tr>\n",
       "    <tr>\n",
       "      <th>3</th>\n",
       "      <td>0</td>\n",
       "      <td>my whole body feels itchy and like its on fire</td>\n",
       "    </tr>\n",
       "    <tr>\n",
       "      <th>4</th>\n",
       "      <td>0</td>\n",
       "      <td>@nationwideclass no, it's not behaving at all....</td>\n",
       "    </tr>\n",
       "  </tbody>\n",
       "</table>\n",
       "</div>"
      ],
      "text/plain": [
       "   sentiment                                              tweet\n",
       "0          0  @switchfoot http://twitpic.com/2y1zl - Awww, t...\n",
       "1          0  is upset that he can't update his Facebook by ...\n",
       "2          0  @Kenichan I dived many times for the ball. Man...\n",
       "3          0    my whole body feels itchy and like its on fire \n",
       "4          0  @nationwideclass no, it's not behaving at all...."
      ]
     },
     "execution_count": 100,
     "metadata": {},
     "output_type": "execute_result"
    }
   ],
   "source": [
    "df.head()"
   ]
  },
  {
   "cell_type": "code",
   "execution_count": 101,
   "metadata": {},
   "outputs": [
    {
     "data": {
      "text/html": [
       "<div>\n",
       "<style scoped>\n",
       "    .dataframe tbody tr th:only-of-type {\n",
       "        vertical-align: middle;\n",
       "    }\n",
       "\n",
       "    .dataframe tbody tr th {\n",
       "        vertical-align: top;\n",
       "    }\n",
       "\n",
       "    .dataframe thead th {\n",
       "        text-align: right;\n",
       "    }\n",
       "</style>\n",
       "<table border=\"1\" class=\"dataframe\">\n",
       "  <thead>\n",
       "    <tr style=\"text-align: right;\">\n",
       "      <th></th>\n",
       "      <th>sentiment</th>\n",
       "      <th>tweet</th>\n",
       "    </tr>\n",
       "  </thead>\n",
       "  <tbody>\n",
       "    <tr>\n",
       "      <th>994674</th>\n",
       "      <td>1</td>\n",
       "      <td>@spencerpratt i cannot stand you on 'The Hills...</td>\n",
       "    </tr>\n",
       "    <tr>\n",
       "      <th>1128256</th>\n",
       "      <td>1</td>\n",
       "      <td>Daughter's bday party yield $100+ for March of...</td>\n",
       "    </tr>\n",
       "    <tr>\n",
       "      <th>1098864</th>\n",
       "      <td>1</td>\n",
       "      <td>Tweetsound test  - http://u.nu/74b8 #sndtwt</td>\n",
       "    </tr>\n",
       "    <tr>\n",
       "      <th>113994</th>\n",
       "      <td>0</td>\n",
       "      <td>Good morning everyone. It seems as though we h...</td>\n",
       "    </tr>\n",
       "    <tr>\n",
       "      <th>1065612</th>\n",
       "      <td>1</td>\n",
       "      <td>@socilover  what's doing.. long time till you ...</td>\n",
       "    </tr>\n",
       "    <tr>\n",
       "      <th>555453</th>\n",
       "      <td>0</td>\n",
       "      <td>http://bit.ly/kovTh just sitting here waiting ...</td>\n",
       "    </tr>\n",
       "    <tr>\n",
       "      <th>1247816</th>\n",
       "      <td>1</td>\n",
       "      <td>I'm super glad to be back in Orlando...hope yo...</td>\n",
       "    </tr>\n",
       "    <tr>\n",
       "      <th>724616</th>\n",
       "      <td>0</td>\n",
       "      <td>@ProvenLoyalty lol this is true...hm wonder if...</td>\n",
       "    </tr>\n",
       "    <tr>\n",
       "      <th>648000</th>\n",
       "      <td>0</td>\n",
       "      <td>So decide to go outside and read, and it start...</td>\n",
       "    </tr>\n",
       "    <tr>\n",
       "      <th>961672</th>\n",
       "      <td>1</td>\n",
       "      <td>@Yahzarah Dang...I need a teleporter LOL Happy...</td>\n",
       "    </tr>\n",
       "  </tbody>\n",
       "</table>\n",
       "</div>"
      ],
      "text/plain": [
       "         sentiment                                              tweet\n",
       "994674           1  @spencerpratt i cannot stand you on 'The Hills...\n",
       "1128256          1  Daughter's bday party yield $100+ for March of...\n",
       "1098864          1        Tweetsound test  - http://u.nu/74b8 #sndtwt\n",
       "113994           0  Good morning everyone. It seems as though we h...\n",
       "1065612          1  @socilover  what's doing.. long time till you ...\n",
       "555453           0  http://bit.ly/kovTh just sitting here waiting ...\n",
       "1247816          1  I'm super glad to be back in Orlando...hope yo...\n",
       "724616           0  @ProvenLoyalty lol this is true...hm wonder if...\n",
       "648000           0  So decide to go outside and read, and it start...\n",
       "961672           1  @Yahzarah Dang...I need a teleporter LOL Happy..."
      ]
     },
     "execution_count": 101,
     "metadata": {},
     "output_type": "execute_result"
    }
   ],
   "source": [
    "import random as rand\n",
    "random_list = [rand.randint(0, len(df[\"sentiment\"])) for _ in range(10)]\n",
    "\n",
    "df.loc[random_list,:].head(10)"
   ]
  },
  {
   "cell_type": "code",
   "execution_count": 102,
   "metadata": {},
   "outputs": [],
   "source": [
    "# Defining Regex patterns\n",
    "\n",
    "url_pattern = \"http:\\S+|https:\\S+|www\\.\\S+\"\n",
    "user_name_pattern = \"@\\S+\"\n",
    "non_alphabets_pattern = \"[^A-Za-z]\"\n",
    "sequence_alphabets = f\"(.)\\1\\1+\"\n",
    "replace_sequence = f\"\\1\\1\""
   ]
  },
  {
   "cell_type": "code",
   "execution_count": 103,
   "metadata": {},
   "outputs": [],
   "source": [
    "stop_words = set(stopwords.words(\"english\"))\n",
    "wordlemm = WordNetLemmatizer()\n",
    "wordstemm = SnowballStemmer(language=\"english\")\n",
    "\n",
    "def text_preprocessing(text, lemmatize):\n",
    "    tokens = []\n",
    "    text = text.lower()\n",
    "\n",
    "    text = re.sub(url_pattern, \" URL\", text)\n",
    "    text = re.sub(user_name_pattern, \" USER\", text)\n",
    "    text = re.sub(sequence_alphabets, replace_sequence, text)\n",
    "\n",
    "    for word in text.split():\n",
    "        if word not in stop_words:\n",
    "            if lemmatize == True:\n",
    "                word = wordlemm.lemmatize(word)\n",
    "                tokens.append(word)\n",
    "            else:\n",
    "                word = wordstemm.stem(word)\n",
    "                tokens.append(word)\n",
    "\n",
    "    text =  \" \".join(tokens)    \n",
    "    text = re.sub(non_alphabets_pattern, \" \", text)\n",
    "    return text"
   ]
  },
  {
   "cell_type": "code",
   "execution_count": 104,
   "metadata": {},
   "outputs": [],
   "source": [
    "def batch_preprocessing(batch_size, lemmatize=False):\n",
    "    print(\"Stemming started\") if lemmatize is False else print(\"Lemmatization started\")\n",
    "    warnings.filterwarnings(\"ignore\")\n",
    "    batch = int(len(df) / batch_size)\n",
    "\n",
    "    batch_start = 0\n",
    "    batch_end = batch\n",
    "    preprocessed_df = []\n",
    "\n",
    "    for i in range(batch_size):\n",
    "        batch_data = df.iloc[batch_start : batch_end - 1]\n",
    "        batch_start = batch_end\n",
    "        batch_end = batch * (i + 2)\n",
    "        batch_data[\"tweet\"] = batch_data[\"tweet\"].apply(lambda text : text_preprocessing(text, lemmatize))\n",
    "        preprocessed_df.append(batch_data)\n",
    "        print(f\"Batch {i + 1} Completed !!\")\n",
    "\n",
    "    preprocessed_df = pd.concat(preprocessed_df)\n",
    "    return preprocessed_df"
   ]
  },
  {
   "cell_type": "code",
   "execution_count": 105,
   "metadata": {},
   "outputs": [
    {
     "name": "stdout",
     "output_type": "stream",
     "text": [
      "Stemming started\n",
      "Batch 1 Completed !!\n",
      "Batch 2 Completed !!\n",
      "Batch 3 Completed !!\n",
      "Batch 4 Completed !!\n",
      "Batch 5 Completed !!\n",
      "Batch 6 Completed !!\n",
      "Batch 7 Completed !!\n",
      "Batch 8 Completed !!\n",
      "Batch 9 Completed !!\n",
      "Batch 10 Completed !!\n",
      "Batch 11 Completed !!\n",
      "Batch 12 Completed !!\n",
      "Batch 13 Completed !!\n",
      "Batch 14 Completed !!\n",
      "Batch 15 Completed !!\n",
      "Batch 16 Completed !!\n",
      "Batch 17 Completed !!\n",
      "Batch 18 Completed !!\n",
      "Batch 19 Completed !!\n",
      "Batch 20 Completed !!\n",
      "CPU times: user 1min 18s, sys: 2.02 s, total: 1min 20s\n",
      "Wall time: 1min 20s\n"
     ]
    }
   ],
   "source": [
    "%%time\n",
    "stemmed_df = batch_preprocessing(20)"
   ]
  },
  {
   "cell_type": "code",
   "execution_count": 106,
   "metadata": {},
   "outputs": [
    {
     "name": "stdout",
     "output_type": "stream",
     "text": [
      "Lemmatization started\n",
      "Batch 1 Completed !!\n",
      "Batch 2 Completed !!\n",
      "Batch 3 Completed !!\n",
      "Batch 4 Completed !!\n",
      "Batch 5 Completed !!\n",
      "Batch 6 Completed !!\n",
      "Batch 7 Completed !!\n",
      "Batch 8 Completed !!\n",
      "Batch 9 Completed !!\n",
      "Batch 10 Completed !!\n",
      "Batch 11 Completed !!\n",
      "Batch 12 Completed !!\n",
      "Batch 13 Completed !!\n",
      "Batch 14 Completed !!\n",
      "Batch 15 Completed !!\n",
      "Batch 16 Completed !!\n",
      "Batch 17 Completed !!\n",
      "Batch 18 Completed !!\n",
      "Batch 19 Completed !!\n",
      "Batch 20 Completed !!\n",
      "CPU times: user 28.6 s, sys: 856 ms, total: 29.4 s\n",
      "Wall time: 29.6 s\n"
     ]
    }
   ],
   "source": [
    "%%time\n",
    "lemmatized_df = batch_preprocessing(20, True)"
   ]
  },
  {
   "cell_type": "code",
   "execution_count": 107,
   "metadata": {},
   "outputs": [
    {
     "data": {
      "text/html": [
       "<div>\n",
       "<style scoped>\n",
       "    .dataframe tbody tr th:only-of-type {\n",
       "        vertical-align: middle;\n",
       "    }\n",
       "\n",
       "    .dataframe tbody tr th {\n",
       "        vertical-align: top;\n",
       "    }\n",
       "\n",
       "    .dataframe thead th {\n",
       "        text-align: right;\n",
       "    }\n",
       "</style>\n",
       "<table border=\"1\" class=\"dataframe\">\n",
       "  <thead>\n",
       "    <tr style=\"text-align: right;\">\n",
       "      <th></th>\n",
       "      <th>sentiment</th>\n",
       "      <th>tweet</th>\n",
       "    </tr>\n",
       "  </thead>\n",
       "  <tbody>\n",
       "    <tr>\n",
       "      <th>0</th>\n",
       "      <td>0</td>\n",
       "      <td>user url   awww  that bummer  shoulda got davi...</td>\n",
       "    </tr>\n",
       "    <tr>\n",
       "      <th>1</th>\n",
       "      <td>0</td>\n",
       "      <td>upset can t updat facebook text it    might cr...</td>\n",
       "    </tr>\n",
       "    <tr>\n",
       "      <th>2</th>\n",
       "      <td>0</td>\n",
       "      <td>user dive mani time ball  manag save     rest ...</td>\n",
       "    </tr>\n",
       "    <tr>\n",
       "      <th>3</th>\n",
       "      <td>0</td>\n",
       "      <td>whole bodi feel itchi like fire</td>\n",
       "    </tr>\n",
       "    <tr>\n",
       "      <th>4</th>\n",
       "      <td>0</td>\n",
       "      <td>user no  behav all  i m mad  here  can t see t...</td>\n",
       "    </tr>\n",
       "  </tbody>\n",
       "</table>\n",
       "</div>"
      ],
      "text/plain": [
       "   sentiment                                              tweet\n",
       "0          0  user url   awww  that bummer  shoulda got davi...\n",
       "1          0  upset can t updat facebook text it    might cr...\n",
       "2          0  user dive mani time ball  manag save     rest ...\n",
       "3          0                    whole bodi feel itchi like fire\n",
       "4          0  user no  behav all  i m mad  here  can t see t..."
      ]
     },
     "execution_count": 107,
     "metadata": {},
     "output_type": "execute_result"
    }
   ],
   "source": [
    "stemmed_df.head()"
   ]
  },
  {
   "cell_type": "code",
   "execution_count": 108,
   "metadata": {},
   "outputs": [
    {
     "data": {
      "text/html": [
       "<div>\n",
       "<style scoped>\n",
       "    .dataframe tbody tr th:only-of-type {\n",
       "        vertical-align: middle;\n",
       "    }\n",
       "\n",
       "    .dataframe tbody tr th {\n",
       "        vertical-align: top;\n",
       "    }\n",
       "\n",
       "    .dataframe thead th {\n",
       "        text-align: right;\n",
       "    }\n",
       "</style>\n",
       "<table border=\"1\" class=\"dataframe\">\n",
       "  <thead>\n",
       "    <tr style=\"text-align: right;\">\n",
       "      <th></th>\n",
       "      <th>sentiment</th>\n",
       "      <th>tweet</th>\n",
       "    </tr>\n",
       "  </thead>\n",
       "  <tbody>\n",
       "    <tr>\n",
       "      <th>0</th>\n",
       "      <td>0</td>\n",
       "      <td>USER URL   awww  that s bummer  shoulda got da...</td>\n",
       "    </tr>\n",
       "    <tr>\n",
       "      <th>1</th>\n",
       "      <td>0</td>\n",
       "      <td>upset can t update facebook texting it    migh...</td>\n",
       "    </tr>\n",
       "    <tr>\n",
       "      <th>2</th>\n",
       "      <td>0</td>\n",
       "      <td>USER dived many time ball  managed save     re...</td>\n",
       "    </tr>\n",
       "    <tr>\n",
       "      <th>3</th>\n",
       "      <td>0</td>\n",
       "      <td>whole body feel itchy like fire</td>\n",
       "    </tr>\n",
       "    <tr>\n",
       "      <th>4</th>\n",
       "      <td>0</td>\n",
       "      <td>USER no  behaving all  i m mad  here  can t se...</td>\n",
       "    </tr>\n",
       "  </tbody>\n",
       "</table>\n",
       "</div>"
      ],
      "text/plain": [
       "   sentiment                                              tweet\n",
       "0          0  USER URL   awww  that s bummer  shoulda got da...\n",
       "1          0  upset can t update facebook texting it    migh...\n",
       "2          0  USER dived many time ball  managed save     re...\n",
       "3          0                    whole body feel itchy like fire\n",
       "4          0  USER no  behaving all  i m mad  here  can t se..."
      ]
     },
     "execution_count": 108,
     "metadata": {},
     "output_type": "execute_result"
    }
   ],
   "source": [
    "lemmatized_df.head()"
   ]
  },
  {
   "cell_type": "code",
   "execution_count": 109,
   "metadata": {},
   "outputs": [
    {
     "name": "stdout",
     "output_type": "stream",
     "text": [
      "Negative Tweet Count ::  799990\n",
      "Positive Tweet Count ::  799990\n"
     ]
    }
   ],
   "source": [
    "Neg_tweet_count = (stemmed_df[\"sentiment\"] == 0).sum().item()\n",
    "Pos_tweet_count = (stemmed_df[\"sentiment\"] == 1).sum().item()\n",
    "print(\"Negative Tweet Count :: \",Neg_tweet_count)\n",
    "print(\"Positive Tweet Count :: \",Pos_tweet_count)\n"
   ]
  },
  {
   "cell_type": "code",
   "execution_count": 110,
   "metadata": {},
   "outputs": [
    {
     "name": "stdout",
     "output_type": "stream",
     "text": [
      "(1599980, 2)\n",
      "(1599980, 2)\n"
     ]
    }
   ],
   "source": [
    "print(stemmed_df.shape)\n",
    "print(lemmatized_df.shape)"
   ]
  },
  {
   "cell_type": "code",
   "execution_count": null,
   "metadata": {},
   "outputs": [],
   "source": []
  },
  {
   "attachments": {},
   "cell_type": "markdown",
   "metadata": {},
   "source": [
    "TF - IDF For Lemmatized Data"
   ]
  },
  {
   "cell_type": "code",
   "execution_count": 111,
   "metadata": {},
   "outputs": [],
   "source": [
    "lemmatized_vectorizer = TfidfVectorizer(analyzer=\"word\", stop_words=\"english\", max_features=1000)\n",
    "X_lemmatized = lemmatized_vectorizer.fit_transform(lemmatized_df[\"tweet\"])"
   ]
  },
  {
   "cell_type": "code",
   "execution_count": 112,
   "metadata": {},
   "outputs": [],
   "source": [
    "features = X_lemmatized.toarray()"
   ]
  },
  {
   "cell_type": "code",
   "execution_count": 113,
   "metadata": {},
   "outputs": [],
   "source": [
    "target = lemmatized_df[\"sentiment\"].values.reshape(-1, 1)"
   ]
  },
  {
   "cell_type": "code",
   "execution_count": 141,
   "metadata": {},
   "outputs": [
    {
     "name": "stdout",
     "output_type": "stream",
     "text": [
      "(1599980, 1000)\n",
      "(1599980, 1)\n"
     ]
    }
   ],
   "source": [
    "print(features.shape)\n",
    "print(target.shape)"
   ]
  },
  {
   "attachments": {},
   "cell_type": "markdown",
   "metadata": {},
   "source": [
    "Train Test Split"
   ]
  },
  {
   "cell_type": "code",
   "execution_count": 115,
   "metadata": {},
   "outputs": [],
   "source": [
    "test_size = 0.2\n",
    "random_state = 40\n",
    "X_train, X_test, y_train, y_test = train_test_split(features, target, test_size = test_size, random_state = random_state)"
   ]
  },
  {
   "cell_type": "code",
   "execution_count": 116,
   "metadata": {},
   "outputs": [
    {
     "data": {
      "text/plain": [
       "((1279984, 1000), (319996, 1000), (1279984, 1), (319996, 1))"
      ]
     },
     "execution_count": 116,
     "metadata": {},
     "output_type": "execute_result"
    }
   ],
   "source": [
    "X_train.shape, X_test.shape, y_train.shape, y_test.shape"
   ]
  },
  {
   "attachments": {},
   "cell_type": "markdown",
   "metadata": {},
   "source": [
    "Create DataLoader"
   ]
  },
  {
   "cell_type": "code",
   "execution_count": 117,
   "metadata": {},
   "outputs": [],
   "source": [
    "class CustomDataset(Dataset):\n",
    "    def __init__(self, features, target):\n",
    "        self.features = features\n",
    "        self.target = target\n",
    "\n",
    "    def __len__(self):\n",
    "        return len(self.features)\n",
    "\n",
    "    def __getitem__(self, index):\n",
    "        feature = self.features[index]\n",
    "        target = self.target[index]\n",
    "\n",
    "        feature = torch.tensor(feature, dtype=torch.float32)\n",
    "        target = torch.tensor(target, dtype=torch.float32)\n",
    "\n",
    "        return feature, target"
   ]
  },
  {
   "cell_type": "code",
   "execution_count": 118,
   "metadata": {},
   "outputs": [],
   "source": [
    "trainset = CustomDataset(X_train, y_train)\n",
    "testset = CustomDataset(X_test, y_test)"
   ]
  },
  {
   "cell_type": "code",
   "execution_count": 119,
   "metadata": {},
   "outputs": [],
   "source": [
    "batch_size = 30\n",
    "trainLoader = DataLoader(trainset, batch_size=batch_size, shuffle=True)\n",
    "testLoader = DataLoader(testset, batch_size=batch_size, shuffle=True)"
   ]
  },
  {
   "attachments": {},
   "cell_type": "markdown",
   "metadata": {},
   "source": [
    "Construct a Network"
   ]
  },
  {
   "cell_type": "code",
   "execution_count": 134,
   "metadata": {},
   "outputs": [],
   "source": [
    "class Network(nn.Module):\n",
    "\n",
    "    def __init__(self, inp_size, out_size, layers):\n",
    "        super().__init__()\n",
    "\n",
    "        self.layer_list = []\n",
    "\n",
    "        for layer in layers:\n",
    "            self.layer_list.append(nn.Linear(inp_size, layer))\n",
    "            self.layer_list.append(nn.ReLU())\n",
    "            inp_size = layer\n",
    "\n",
    "        self.layer_list.append(nn.Linear(layers[-1], out_size))\n",
    "        self.layer_list.append(nn.Sigmoid())\n",
    "    \n",
    "        self.Net = nn.Sequential(*self.layer_list)\n",
    "\n",
    "    def forward(self, x):\n",
    "        out = self.Net(x)\n",
    "        return out"
   ]
  },
  {
   "cell_type": "code",
   "execution_count": 135,
   "metadata": {},
   "outputs": [],
   "source": [
    "# Defining the accuracy function\n",
    "def compute_accuracy(y_pred, y_actual):\n",
    "    predicted_labels = (y_pred >= 0.5).float()\n",
    "    correct_predictions = (predicted_labels == y_actual).sum().item()\n",
    "    total_predictions = y_actual.size(0)\n",
    "    accuracy = correct_predictions / total_predictions\n",
    "    return accuracy"
   ]
  },
  {
   "cell_type": "code",
   "execution_count": 136,
   "metadata": {},
   "outputs": [
    {
     "data": {
      "text/plain": [
       "Network(\n",
       "  (Net): Sequential(\n",
       "    (0): Linear(in_features=1000, out_features=200, bias=True)\n",
       "    (1): ReLU()\n",
       "    (2): Linear(in_features=200, out_features=150, bias=True)\n",
       "    (3): ReLU()\n",
       "    (4): Linear(in_features=150, out_features=2, bias=True)\n",
       "    (5): Sigmoid()\n",
       "  )\n",
       ")"
      ]
     },
     "execution_count": 136,
     "metadata": {},
     "output_type": "execute_result"
    }
   ],
   "source": [
    "# initializing a model\n",
    "\n",
    "torch.manual_seed(100)\n",
    "Net = Network(X_train.shape[1], 2, [200, 150])\n",
    "Net"
   ]
  },
  {
   "cell_type": "code",
   "execution_count": 137,
   "metadata": {},
   "outputs": [],
   "source": [
    "# Defining loss and optimizer function\n",
    "loss_function = nn.BCELoss()\n",
    "optimizer = torch.optim.SGD(Net.parameters(), lr=0.001, momentum=0.9)\n",
    "scheduler = StepLR(optimizer, step_size=1, gamma=0.1)"
   ]
  },
  {
   "cell_type": "code",
   "execution_count": 138,
   "metadata": {},
   "outputs": [
    {
     "name": "stdout",
     "output_type": "stream",
     "text": [
      "Epoch ===> 1, Loss ===> 0.59698, Accuracy ===> 67.39%\n",
      "Epoch ===> 2, Loss ===> 0.51456, Accuracy ===> 74.14%\n",
      "Epoch ===> 3, Loss ===> 0.51030, Accuracy ===> 74.37%\n",
      "Epoch ===> 4, Loss ===> 0.50750, Accuracy ===> 74.53%\n",
      "Epoch ===> 5, Loss ===> 0.50490, Accuracy ===> 74.73%\n",
      "Epoch ===> 6, Loss ===> 0.50263, Accuracy ===> 74.86%\n",
      "Epoch ===> 7, Loss ===> 0.50050, Accuracy ===> 75.01%\n",
      "Epoch ===> 8, Loss ===> 0.49836, Accuracy ===> 75.16%\n",
      "Epoch ===> 9, Loss ===> 0.49630, Accuracy ===> 75.28%\n",
      "Epoch ===> 10, Loss ===> 0.49421, Accuracy ===> 75.48%\n"
     ]
    }
   ],
   "source": [
    "Epochs = 10\n",
    "Loss = []\n",
    "Accuracy = []\n",
    "\n",
    "for epoch in range(Epochs):\n",
    "\n",
    "    epoch_loss = 0.0\n",
    "    epoch_accuracy = 0.0\n",
    "    for batchNumber, data in enumerate(trainLoader, 0):\n",
    "        \n",
    "        optimizer.zero_grad()\n",
    "        y_pred = Net(data[0])\n",
    "        y_pred = torch.max(y_pred, dim=1, keepdim=True)[0]\n",
    "        loss = loss_function(y_pred, data[1])\n",
    "        accuracy = compute_accuracy(y_pred, data[1])\n",
    "        loss.backward()\n",
    "        optimizer.step()\n",
    "\n",
    "        epoch_loss += loss\n",
    "        epoch_accuracy+= accuracy\n",
    "    Loss.append(epoch_loss / batchNumber)\n",
    "    Accuracy.append(epoch_accuracy / batchNumber)\n",
    "\n",
    "    print(f\"Epoch ===> {epoch + 1}, Loss ===> {(epoch_loss / batchNumber):.5f}, Accuracy ===> {(epoch_accuracy / batchNumber):.2%}\")"
   ]
  },
  {
   "cell_type": "code",
   "execution_count": 139,
   "metadata": {},
   "outputs": [
    {
     "name": "stdout",
     "output_type": "stream",
     "text": [
      "Loss ===> 0.50, Accuracy ===> 74.97%\n"
     ]
    }
   ],
   "source": [
    "epoch_test_loss = 0.0\n",
    "epoch_test_accuracy = 0.0\n",
    "\n",
    "for batchNumber, data in enumerate(testLoader, 0):\n",
    "\n",
    "    y_pred = Net(data[0])\n",
    "    y_pred = torch.max(y_pred, dim=1, keepdim=True)[0]\n",
    "    loss = loss_function(y_pred, data[1])\n",
    "    accuracy = compute_accuracy(y_pred, data[1])\n",
    "\n",
    "    epoch_test_loss += loss\n",
    "    epoch_test_accuracy+= accuracy\n",
    "\n",
    "print(f\"Loss ===> {(epoch_test_loss / batchNumber):.2f}, Accuracy ===> {(epoch_test_accuracy / batchNumber):.2%}\")"
   ]
  },
  {
   "cell_type": "code",
   "execution_count": null,
   "metadata": {},
   "outputs": [],
   "source": []
  },
  {
   "cell_type": "code",
   "execution_count": null,
   "metadata": {},
   "outputs": [],
   "source": []
  }
 ],
 "metadata": {
  "kernelspec": {
   "display_name": "Learn",
   "language": "python",
   "name": "python3"
  },
  "language_info": {
   "codemirror_mode": {
    "name": "ipython",
    "version": 3
   },
   "file_extension": ".py",
   "mimetype": "text/x-python",
   "name": "python",
   "nbconvert_exporter": "python",
   "pygments_lexer": "ipython3",
   "version": "3.8.16"
  },
  "orig_nbformat": 4
 },
 "nbformat": 4,
 "nbformat_minor": 2
}
