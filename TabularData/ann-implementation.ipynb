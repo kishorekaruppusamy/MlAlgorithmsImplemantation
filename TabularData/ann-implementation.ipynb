{
 "cells": [
  {
   "cell_type": "code",
   "execution_count": 1,
   "id": "c1c7ca74",
   "metadata": {
    "_cell_guid": "b1076dfc-b9ad-4769-8c92-a6c4dae69d19",
    "_uuid": "8f2839f25d086af736a60e9eeb907d3b93b6e0e5",
    "execution": {
     "iopub.execute_input": "2023-05-19T05:52:56.173633Z",
     "iopub.status.busy": "2023-05-19T05:52:56.173260Z",
     "iopub.status.idle": "2023-05-19T05:52:56.185208Z",
     "shell.execute_reply": "2023-05-19T05:52:56.184209Z"
    },
    "papermill": {
     "duration": 0.033164,
     "end_time": "2023-05-19T05:52:56.187600",
     "exception": false,
     "start_time": "2023-05-19T05:52:56.154436",
     "status": "completed"
    },
    "tags": []
   },
   "outputs": [],
   "source": [
    "import pandas as pd"
   ]
  },
  {
   "cell_type": "code",
   "execution_count": 2,
   "id": "be1a0f2e",
   "metadata": {
    "execution": {
     "iopub.execute_input": "2023-05-19T05:52:56.219426Z",
     "iopub.status.busy": "2023-05-19T05:52:56.219008Z",
     "iopub.status.idle": "2023-05-19T05:52:56.279696Z",
     "shell.execute_reply": "2023-05-19T05:52:56.278754Z"
    },
    "papermill": {
     "duration": 0.079656,
     "end_time": "2023-05-19T05:52:56.282222",
     "exception": false,
     "start_time": "2023-05-19T05:52:56.202566",
     "status": "completed"
    },
    "tags": []
   },
   "outputs": [],
   "source": [
    "data = pd.read_csv(\"houseprice.csv\", usecols=[\"SalePrice\", \"MSSubClass\", \"MSZoning\", \"LotFrontage\", \"LotArea\", \"Street\", \"LotShape\", \"YearBuilt\", \"1stFlrSF\", \"2ndFlrSF\"]).dropna()"
   ]
  },
  {
   "cell_type": "code",
   "execution_count": 3,
   "id": "a95707fa",
   "metadata": {
    "execution": {
     "iopub.execute_input": "2023-05-19T05:52:56.314359Z",
     "iopub.status.busy": "2023-05-19T05:52:56.313345Z",
     "iopub.status.idle": "2023-05-19T05:52:56.349583Z",
     "shell.execute_reply": "2023-05-19T05:52:56.348455Z"
    },
    "papermill": {
     "duration": 0.054992,
     "end_time": "2023-05-19T05:52:56.352208",
     "exception": false,
     "start_time": "2023-05-19T05:52:56.297216",
     "status": "completed"
    },
    "tags": []
   },
   "outputs": [
    {
     "data": {
      "text/html": [
       "<div>\n",
       "<style scoped>\n",
       "    .dataframe tbody tr th:only-of-type {\n",
       "        vertical-align: middle;\n",
       "    }\n",
       "\n",
       "    .dataframe tbody tr th {\n",
       "        vertical-align: top;\n",
       "    }\n",
       "\n",
       "    .dataframe thead th {\n",
       "        text-align: right;\n",
       "    }\n",
       "</style>\n",
       "<table border=\"1\" class=\"dataframe\">\n",
       "  <thead>\n",
       "    <tr style=\"text-align: right;\">\n",
       "      <th></th>\n",
       "      <th>MSSubClass</th>\n",
       "      <th>MSZoning</th>\n",
       "      <th>LotFrontage</th>\n",
       "      <th>LotArea</th>\n",
       "      <th>Street</th>\n",
       "      <th>LotShape</th>\n",
       "      <th>YearBuilt</th>\n",
       "      <th>1stFlrSF</th>\n",
       "      <th>2ndFlrSF</th>\n",
       "      <th>SalePrice</th>\n",
       "    </tr>\n",
       "  </thead>\n",
       "  <tbody>\n",
       "    <tr>\n",
       "      <th>0</th>\n",
       "      <td>60</td>\n",
       "      <td>RL</td>\n",
       "      <td>65.0</td>\n",
       "      <td>8450</td>\n",
       "      <td>Pave</td>\n",
       "      <td>Reg</td>\n",
       "      <td>2003</td>\n",
       "      <td>856</td>\n",
       "      <td>854</td>\n",
       "      <td>208500</td>\n",
       "    </tr>\n",
       "    <tr>\n",
       "      <th>1</th>\n",
       "      <td>20</td>\n",
       "      <td>RL</td>\n",
       "      <td>80.0</td>\n",
       "      <td>9600</td>\n",
       "      <td>Pave</td>\n",
       "      <td>Reg</td>\n",
       "      <td>1976</td>\n",
       "      <td>1262</td>\n",
       "      <td>0</td>\n",
       "      <td>181500</td>\n",
       "    </tr>\n",
       "    <tr>\n",
       "      <th>2</th>\n",
       "      <td>60</td>\n",
       "      <td>RL</td>\n",
       "      <td>68.0</td>\n",
       "      <td>11250</td>\n",
       "      <td>Pave</td>\n",
       "      <td>IR1</td>\n",
       "      <td>2001</td>\n",
       "      <td>920</td>\n",
       "      <td>866</td>\n",
       "      <td>223500</td>\n",
       "    </tr>\n",
       "    <tr>\n",
       "      <th>3</th>\n",
       "      <td>70</td>\n",
       "      <td>RL</td>\n",
       "      <td>60.0</td>\n",
       "      <td>9550</td>\n",
       "      <td>Pave</td>\n",
       "      <td>IR1</td>\n",
       "      <td>1915</td>\n",
       "      <td>961</td>\n",
       "      <td>756</td>\n",
       "      <td>140000</td>\n",
       "    </tr>\n",
       "    <tr>\n",
       "      <th>4</th>\n",
       "      <td>60</td>\n",
       "      <td>RL</td>\n",
       "      <td>84.0</td>\n",
       "      <td>14260</td>\n",
       "      <td>Pave</td>\n",
       "      <td>IR1</td>\n",
       "      <td>2000</td>\n",
       "      <td>1145</td>\n",
       "      <td>1053</td>\n",
       "      <td>250000</td>\n",
       "    </tr>\n",
       "  </tbody>\n",
       "</table>\n",
       "</div>"
      ],
      "text/plain": [
       "   MSSubClass MSZoning  LotFrontage  LotArea Street LotShape  YearBuilt   \n",
       "0          60       RL         65.0     8450   Pave      Reg       2003  \\\n",
       "1          20       RL         80.0     9600   Pave      Reg       1976   \n",
       "2          60       RL         68.0    11250   Pave      IR1       2001   \n",
       "3          70       RL         60.0     9550   Pave      IR1       1915   \n",
       "4          60       RL         84.0    14260   Pave      IR1       2000   \n",
       "\n",
       "   1stFlrSF  2ndFlrSF  SalePrice  \n",
       "0       856       854     208500  \n",
       "1      1262         0     181500  \n",
       "2       920       866     223500  \n",
       "3       961       756     140000  \n",
       "4      1145      1053     250000  "
      ]
     },
     "execution_count": 3,
     "metadata": {},
     "output_type": "execute_result"
    }
   ],
   "source": [
    "data.head()"
   ]
  },
  {
   "cell_type": "code",
   "execution_count": 4,
   "id": "ca071325",
   "metadata": {
    "execution": {
     "iopub.execute_input": "2023-05-19T05:52:56.384686Z",
     "iopub.status.busy": "2023-05-19T05:52:56.384290Z",
     "iopub.status.idle": "2023-05-19T05:52:56.391554Z",
     "shell.execute_reply": "2023-05-19T05:52:56.390401Z"
    },
    "papermill": {
     "duration": 0.026375,
     "end_time": "2023-05-19T05:52:56.393971",
     "exception": false,
     "start_time": "2023-05-19T05:52:56.367596",
     "status": "completed"
    },
    "tags": []
   },
   "outputs": [
    {
     "data": {
      "text/plain": [
       "(1201, 10)"
      ]
     },
     "execution_count": 4,
     "metadata": {},
     "output_type": "execute_result"
    }
   ],
   "source": [
    "data.shape"
   ]
  },
  {
   "cell_type": "code",
   "execution_count": 5,
   "id": "a7411571",
   "metadata": {
    "execution": {
     "iopub.execute_input": "2023-05-19T05:52:56.426825Z",
     "iopub.status.busy": "2023-05-19T05:52:56.426407Z",
     "iopub.status.idle": "2023-05-19T05:52:56.454566Z",
     "shell.execute_reply": "2023-05-19T05:52:56.453488Z"
    },
    "papermill": {
     "duration": 0.047703,
     "end_time": "2023-05-19T05:52:56.457204",
     "exception": false,
     "start_time": "2023-05-19T05:52:56.409501",
     "status": "completed"
    },
    "tags": []
   },
   "outputs": [
    {
     "name": "stdout",
     "output_type": "stream",
     "text": [
      "<class 'pandas.core.frame.DataFrame'>\n",
      "Index: 1201 entries, 0 to 1459\n",
      "Data columns (total 10 columns):\n",
      " #   Column       Non-Null Count  Dtype  \n",
      "---  ------       --------------  -----  \n",
      " 0   MSSubClass   1201 non-null   int64  \n",
      " 1   MSZoning     1201 non-null   object \n",
      " 2   LotFrontage  1201 non-null   float64\n",
      " 3   LotArea      1201 non-null   int64  \n",
      " 4   Street       1201 non-null   object \n",
      " 5   LotShape     1201 non-null   object \n",
      " 6   YearBuilt    1201 non-null   int64  \n",
      " 7   1stFlrSF     1201 non-null   int64  \n",
      " 8   2ndFlrSF     1201 non-null   int64  \n",
      " 9   SalePrice    1201 non-null   int64  \n",
      "dtypes: float64(1), int64(6), object(3)\n",
      "memory usage: 103.2+ KB\n"
     ]
    }
   ],
   "source": [
    "data.info()"
   ]
  },
  {
   "cell_type": "code",
   "execution_count": 6,
   "id": "58fbc118",
   "metadata": {
    "execution": {
     "iopub.execute_input": "2023-05-19T05:52:56.490727Z",
     "iopub.status.busy": "2023-05-19T05:52:56.490065Z",
     "iopub.status.idle": "2023-05-19T05:52:56.499201Z",
     "shell.execute_reply": "2023-05-19T05:52:56.497913Z"
    },
    "papermill": {
     "duration": 0.028994,
     "end_time": "2023-05-19T05:52:56.501619",
     "exception": false,
     "start_time": "2023-05-19T05:52:56.472625",
     "status": "completed"
    },
    "tags": []
   },
   "outputs": [
    {
     "name": "stdout",
     "output_type": "stream",
     "text": [
      "Column name : MSSubClass, Unique Value : 15\n",
      "Column name : MSZoning, Unique Value : 5\n",
      "Column name : LotFrontage, Unique Value : 110\n",
      "Column name : LotArea, Unique Value : 869\n",
      "Column name : Street, Unique Value : 2\n",
      "Column name : LotShape, Unique Value : 4\n",
      "Column name : YearBuilt, Unique Value : 112\n",
      "Column name : 1stFlrSF, Unique Value : 678\n",
      "Column name : 2ndFlrSF, Unique Value : 368\n",
      "Column name : SalePrice, Unique Value : 597\n"
     ]
    }
   ],
   "source": [
    "for i in data.columns:\n",
    "        print(f\"Column name : {i}, Unique Value : {len(data[i].unique())}\")"
   ]
  },
  {
   "cell_type": "code",
   "execution_count": 7,
   "id": "68de027c",
   "metadata": {
    "execution": {
     "iopub.execute_input": "2023-05-19T05:52:56.534905Z",
     "iopub.status.busy": "2023-05-19T05:52:56.534245Z",
     "iopub.status.idle": "2023-05-19T05:52:56.541501Z",
     "shell.execute_reply": "2023-05-19T05:52:56.540432Z"
    },
    "papermill": {
     "duration": 0.026578,
     "end_time": "2023-05-19T05:52:56.543785",
     "exception": false,
     "start_time": "2023-05-19T05:52:56.517207",
     "status": "completed"
    },
    "tags": []
   },
   "outputs": [
    {
     "data": {
      "text/plain": [
       "2023"
      ]
     },
     "execution_count": 7,
     "metadata": {},
     "output_type": "execute_result"
    }
   ],
   "source": [
    "import datetime\n",
    "datetime.datetime.now().year"
   ]
  },
  {
   "cell_type": "code",
   "execution_count": 8,
   "id": "2064cb4b",
   "metadata": {
    "execution": {
     "iopub.execute_input": "2023-05-19T05:52:56.577921Z",
     "iopub.status.busy": "2023-05-19T05:52:56.577276Z",
     "iopub.status.idle": "2023-05-19T05:52:56.583442Z",
     "shell.execute_reply": "2023-05-19T05:52:56.582463Z"
    },
    "papermill": {
     "duration": 0.025987,
     "end_time": "2023-05-19T05:52:56.585829",
     "exception": false,
     "start_time": "2023-05-19T05:52:56.559842",
     "status": "completed"
    },
    "tags": []
   },
   "outputs": [],
   "source": [
    "data[\"House_Old\"] = datetime.datetime.now().year - data[\"YearBuilt\"]"
   ]
  },
  {
   "cell_type": "code",
   "execution_count": 9,
   "id": "bb1398c6",
   "metadata": {
    "execution": {
     "iopub.execute_input": "2023-05-19T05:52:56.620280Z",
     "iopub.status.busy": "2023-05-19T05:52:56.619869Z",
     "iopub.status.idle": "2023-05-19T05:52:56.636217Z",
     "shell.execute_reply": "2023-05-19T05:52:56.635278Z"
    },
    "papermill": {
     "duration": 0.037521,
     "end_time": "2023-05-19T05:52:56.639628",
     "exception": false,
     "start_time": "2023-05-19T05:52:56.602107",
     "status": "completed"
    },
    "tags": []
   },
   "outputs": [
    {
     "data": {
      "text/html": [
       "<div>\n",
       "<style scoped>\n",
       "    .dataframe tbody tr th:only-of-type {\n",
       "        vertical-align: middle;\n",
       "    }\n",
       "\n",
       "    .dataframe tbody tr th {\n",
       "        vertical-align: top;\n",
       "    }\n",
       "\n",
       "    .dataframe thead th {\n",
       "        text-align: right;\n",
       "    }\n",
       "</style>\n",
       "<table border=\"1\" class=\"dataframe\">\n",
       "  <thead>\n",
       "    <tr style=\"text-align: right;\">\n",
       "      <th></th>\n",
       "      <th>MSSubClass</th>\n",
       "      <th>MSZoning</th>\n",
       "      <th>LotFrontage</th>\n",
       "      <th>LotArea</th>\n",
       "      <th>Street</th>\n",
       "      <th>LotShape</th>\n",
       "      <th>YearBuilt</th>\n",
       "      <th>1stFlrSF</th>\n",
       "      <th>2ndFlrSF</th>\n",
       "      <th>SalePrice</th>\n",
       "      <th>House_Old</th>\n",
       "    </tr>\n",
       "  </thead>\n",
       "  <tbody>\n",
       "    <tr>\n",
       "      <th>0</th>\n",
       "      <td>60</td>\n",
       "      <td>RL</td>\n",
       "      <td>65.0</td>\n",
       "      <td>8450</td>\n",
       "      <td>Pave</td>\n",
       "      <td>Reg</td>\n",
       "      <td>2003</td>\n",
       "      <td>856</td>\n",
       "      <td>854</td>\n",
       "      <td>208500</td>\n",
       "      <td>20</td>\n",
       "    </tr>\n",
       "    <tr>\n",
       "      <th>1</th>\n",
       "      <td>20</td>\n",
       "      <td>RL</td>\n",
       "      <td>80.0</td>\n",
       "      <td>9600</td>\n",
       "      <td>Pave</td>\n",
       "      <td>Reg</td>\n",
       "      <td>1976</td>\n",
       "      <td>1262</td>\n",
       "      <td>0</td>\n",
       "      <td>181500</td>\n",
       "      <td>47</td>\n",
       "    </tr>\n",
       "    <tr>\n",
       "      <th>2</th>\n",
       "      <td>60</td>\n",
       "      <td>RL</td>\n",
       "      <td>68.0</td>\n",
       "      <td>11250</td>\n",
       "      <td>Pave</td>\n",
       "      <td>IR1</td>\n",
       "      <td>2001</td>\n",
       "      <td>920</td>\n",
       "      <td>866</td>\n",
       "      <td>223500</td>\n",
       "      <td>22</td>\n",
       "    </tr>\n",
       "    <tr>\n",
       "      <th>3</th>\n",
       "      <td>70</td>\n",
       "      <td>RL</td>\n",
       "      <td>60.0</td>\n",
       "      <td>9550</td>\n",
       "      <td>Pave</td>\n",
       "      <td>IR1</td>\n",
       "      <td>1915</td>\n",
       "      <td>961</td>\n",
       "      <td>756</td>\n",
       "      <td>140000</td>\n",
       "      <td>108</td>\n",
       "    </tr>\n",
       "    <tr>\n",
       "      <th>4</th>\n",
       "      <td>60</td>\n",
       "      <td>RL</td>\n",
       "      <td>84.0</td>\n",
       "      <td>14260</td>\n",
       "      <td>Pave</td>\n",
       "      <td>IR1</td>\n",
       "      <td>2000</td>\n",
       "      <td>1145</td>\n",
       "      <td>1053</td>\n",
       "      <td>250000</td>\n",
       "      <td>23</td>\n",
       "    </tr>\n",
       "  </tbody>\n",
       "</table>\n",
       "</div>"
      ],
      "text/plain": [
       "   MSSubClass MSZoning  LotFrontage  LotArea Street LotShape  YearBuilt   \n",
       "0          60       RL         65.0     8450   Pave      Reg       2003  \\\n",
       "1          20       RL         80.0     9600   Pave      Reg       1976   \n",
       "2          60       RL         68.0    11250   Pave      IR1       2001   \n",
       "3          70       RL         60.0     9550   Pave      IR1       1915   \n",
       "4          60       RL         84.0    14260   Pave      IR1       2000   \n",
       "\n",
       "   1stFlrSF  2ndFlrSF  SalePrice  House_Old  \n",
       "0       856       854     208500         20  \n",
       "1      1262         0     181500         47  \n",
       "2       920       866     223500         22  \n",
       "3       961       756     140000        108  \n",
       "4      1145      1053     250000         23  "
      ]
     },
     "execution_count": 9,
     "metadata": {},
     "output_type": "execute_result"
    }
   ],
   "source": [
    "data.head()"
   ]
  },
  {
   "cell_type": "code",
   "execution_count": 10,
   "id": "27f4a589",
   "metadata": {
    "execution": {
     "iopub.execute_input": "2023-05-19T05:52:56.674775Z",
     "iopub.status.busy": "2023-05-19T05:52:56.673799Z",
     "iopub.status.idle": "2023-05-19T05:52:56.680479Z",
     "shell.execute_reply": "2023-05-19T05:52:56.679206Z"
    },
    "papermill": {
     "duration": 0.026728,
     "end_time": "2023-05-19T05:52:56.683154",
     "exception": false,
     "start_time": "2023-05-19T05:52:56.656426",
     "status": "completed"
    },
    "tags": []
   },
   "outputs": [],
   "source": [
    "data.drop(\"YearBuilt\", axis=1, inplace=True)"
   ]
  },
  {
   "cell_type": "code",
   "execution_count": 11,
   "id": "6e315dbe",
   "metadata": {
    "execution": {
     "iopub.execute_input": "2023-05-19T05:52:56.719384Z",
     "iopub.status.busy": "2023-05-19T05:52:56.718960Z",
     "iopub.status.idle": "2023-05-19T05:52:56.724400Z",
     "shell.execute_reply": "2023-05-19T05:52:56.723039Z"
    },
    "papermill": {
     "duration": 0.025512,
     "end_time": "2023-05-19T05:52:56.727055",
     "exception": false,
     "start_time": "2023-05-19T05:52:56.701543",
     "status": "completed"
    },
    "tags": []
   },
   "outputs": [],
   "source": [
    "cat_features = [\"MSSubClass\", \"MSZoning\", \"Street\", \"LotShape\"]\n",
    "out_features = \"SalePrice\""
   ]
  },
  {
   "cell_type": "code",
   "execution_count": 12,
   "id": "b2a5ad3e",
   "metadata": {
    "execution": {
     "iopub.execute_input": "2023-05-19T05:52:56.762907Z",
     "iopub.status.busy": "2023-05-19T05:52:56.761787Z",
     "iopub.status.idle": "2023-05-19T05:52:58.002206Z",
     "shell.execute_reply": "2023-05-19T05:52:58.000977Z"
    },
    "papermill": {
     "duration": 1.261108,
     "end_time": "2023-05-19T05:52:58.004977",
     "exception": false,
     "start_time": "2023-05-19T05:52:56.743869",
     "status": "completed"
    },
    "tags": []
   },
   "outputs": [],
   "source": [
    "from sklearn.preprocessing import LabelEncoder"
   ]
  },
  {
   "cell_type": "code",
   "execution_count": 13,
   "id": "46285647",
   "metadata": {
    "execution": {
     "iopub.execute_input": "2023-05-19T05:52:58.039542Z",
     "iopub.status.busy": "2023-05-19T05:52:58.038831Z",
     "iopub.status.idle": "2023-05-19T05:52:58.057672Z",
     "shell.execute_reply": "2023-05-19T05:52:58.056543Z"
    },
    "papermill": {
     "duration": 0.039165,
     "end_time": "2023-05-19T05:52:58.060259",
     "exception": false,
     "start_time": "2023-05-19T05:52:58.021094",
     "status": "completed"
    },
    "tags": []
   },
   "outputs": [
    {
     "data": {
      "text/html": [
       "<div>\n",
       "<style scoped>\n",
       "    .dataframe tbody tr th:only-of-type {\n",
       "        vertical-align: middle;\n",
       "    }\n",
       "\n",
       "    .dataframe tbody tr th {\n",
       "        vertical-align: top;\n",
       "    }\n",
       "\n",
       "    .dataframe thead th {\n",
       "        text-align: right;\n",
       "    }\n",
       "</style>\n",
       "<table border=\"1\" class=\"dataframe\">\n",
       "  <thead>\n",
       "    <tr style=\"text-align: right;\">\n",
       "      <th></th>\n",
       "      <th>MSSubClass</th>\n",
       "      <th>MSZoning</th>\n",
       "      <th>LotFrontage</th>\n",
       "      <th>LotArea</th>\n",
       "      <th>Street</th>\n",
       "      <th>LotShape</th>\n",
       "      <th>1stFlrSF</th>\n",
       "      <th>2ndFlrSF</th>\n",
       "      <th>SalePrice</th>\n",
       "      <th>House_Old</th>\n",
       "    </tr>\n",
       "  </thead>\n",
       "  <tbody>\n",
       "    <tr>\n",
       "      <th>0</th>\n",
       "      <td>5</td>\n",
       "      <td>3</td>\n",
       "      <td>65.0</td>\n",
       "      <td>8450</td>\n",
       "      <td>1</td>\n",
       "      <td>3</td>\n",
       "      <td>856</td>\n",
       "      <td>854</td>\n",
       "      <td>208500</td>\n",
       "      <td>20</td>\n",
       "    </tr>\n",
       "    <tr>\n",
       "      <th>1</th>\n",
       "      <td>0</td>\n",
       "      <td>3</td>\n",
       "      <td>80.0</td>\n",
       "      <td>9600</td>\n",
       "      <td>1</td>\n",
       "      <td>3</td>\n",
       "      <td>1262</td>\n",
       "      <td>0</td>\n",
       "      <td>181500</td>\n",
       "      <td>47</td>\n",
       "    </tr>\n",
       "    <tr>\n",
       "      <th>2</th>\n",
       "      <td>5</td>\n",
       "      <td>3</td>\n",
       "      <td>68.0</td>\n",
       "      <td>11250</td>\n",
       "      <td>1</td>\n",
       "      <td>0</td>\n",
       "      <td>920</td>\n",
       "      <td>866</td>\n",
       "      <td>223500</td>\n",
       "      <td>22</td>\n",
       "    </tr>\n",
       "    <tr>\n",
       "      <th>3</th>\n",
       "      <td>6</td>\n",
       "      <td>3</td>\n",
       "      <td>60.0</td>\n",
       "      <td>9550</td>\n",
       "      <td>1</td>\n",
       "      <td>0</td>\n",
       "      <td>961</td>\n",
       "      <td>756</td>\n",
       "      <td>140000</td>\n",
       "      <td>108</td>\n",
       "    </tr>\n",
       "    <tr>\n",
       "      <th>4</th>\n",
       "      <td>5</td>\n",
       "      <td>3</td>\n",
       "      <td>84.0</td>\n",
       "      <td>14260</td>\n",
       "      <td>1</td>\n",
       "      <td>0</td>\n",
       "      <td>1145</td>\n",
       "      <td>1053</td>\n",
       "      <td>250000</td>\n",
       "      <td>23</td>\n",
       "    </tr>\n",
       "  </tbody>\n",
       "</table>\n",
       "</div>"
      ],
      "text/plain": [
       "   MSSubClass  MSZoning  LotFrontage  LotArea  Street  LotShape  1stFlrSF   \n",
       "0           5         3         65.0     8450       1         3       856  \\\n",
       "1           0         3         80.0     9600       1         3      1262   \n",
       "2           5         3         68.0    11250       1         0       920   \n",
       "3           6         3         60.0     9550       1         0       961   \n",
       "4           5         3         84.0    14260       1         0      1145   \n",
       "\n",
       "   2ndFlrSF  SalePrice  House_Old  \n",
       "0       854     208500         20  \n",
       "1         0     181500         47  \n",
       "2       866     223500         22  \n",
       "3       756     140000        108  \n",
       "4      1053     250000         23  "
      ]
     },
     "execution_count": 13,
     "metadata": {},
     "output_type": "execute_result"
    }
   ],
   "source": [
    "encoder = LabelEncoder()\n",
    "\n",
    "for feature in cat_features:\n",
    "    data[feature] = encoder.fit_transform(data[feature])\n",
    "    \n",
    "data.head()"
   ]
  },
  {
   "cell_type": "code",
   "execution_count": 14,
   "id": "e2555647",
   "metadata": {
    "execution": {
     "iopub.execute_input": "2023-05-19T05:52:58.094705Z",
     "iopub.status.busy": "2023-05-19T05:52:58.094340Z",
     "iopub.status.idle": "2023-05-19T05:52:58.103399Z",
     "shell.execute_reply": "2023-05-19T05:52:58.102243Z"
    },
    "papermill": {
     "duration": 0.029041,
     "end_time": "2023-05-19T05:52:58.105692",
     "exception": false,
     "start_time": "2023-05-19T05:52:58.076651",
     "status": "completed"
    },
    "tags": []
   },
   "outputs": [
    {
     "data": {
      "text/plain": [
       "array([[5, 3, 1, 3],\n",
       "       [0, 3, 1, 3],\n",
       "       [5, 3, 1, 0],\n",
       "       ...,\n",
       "       [6, 3, 1, 3],\n",
       "       [0, 3, 1, 3],\n",
       "       [0, 3, 1, 3]])"
      ]
     },
     "execution_count": 14,
     "metadata": {},
     "output_type": "execute_result"
    }
   ],
   "source": [
    "import numpy as np\n",
    "cat_features = np.stack([data[\"MSSubClass\"], data[\"MSZoning\"], data[\"Street\"], data[\"LotShape\"]], 1)\n",
    "cat_features"
   ]
  },
  {
   "cell_type": "code",
   "execution_count": 15,
   "id": "0de51ec8",
   "metadata": {
    "execution": {
     "iopub.execute_input": "2023-05-19T05:52:58.172710Z",
     "iopub.status.busy": "2023-05-19T05:52:58.172340Z",
     "iopub.status.idle": "2023-05-19T05:53:02.020794Z",
     "shell.execute_reply": "2023-05-19T05:53:02.019680Z"
    },
    "papermill": {
     "duration": 3.868442,
     "end_time": "2023-05-19T05:53:02.023189",
     "exception": false,
     "start_time": "2023-05-19T05:52:58.154747",
     "status": "completed"
    },
    "tags": []
   },
   "outputs": [
    {
     "data": {
      "text/plain": [
       "tensor([[5, 3, 1, 3],\n",
       "        [0, 3, 1, 3],\n",
       "        [5, 3, 1, 0],\n",
       "        ...,\n",
       "        [6, 3, 1, 3],\n",
       "        [0, 3, 1, 3],\n",
       "        [0, 3, 1, 3]])"
      ]
     },
     "execution_count": 15,
     "metadata": {},
     "output_type": "execute_result"
    }
   ],
   "source": [
    "import torch\n",
    "cat_features = torch.tensor(cat_features, dtype = torch.int64)\n",
    "cat_features"
   ]
  },
  {
   "cell_type": "code",
   "execution_count": 16,
   "id": "20bd3e13",
   "metadata": {
    "execution": {
     "iopub.execute_input": "2023-05-19T05:53:02.059219Z",
     "iopub.status.busy": "2023-05-19T05:53:02.058279Z",
     "iopub.status.idle": "2023-05-19T05:53:02.065580Z",
     "shell.execute_reply": "2023-05-19T05:53:02.064742Z"
    },
    "papermill": {
     "duration": 0.027941,
     "end_time": "2023-05-19T05:53:02.067757",
     "exception": false,
     "start_time": "2023-05-19T05:53:02.039816",
     "status": "completed"
    },
    "tags": []
   },
   "outputs": [
    {
     "data": {
      "text/plain": [
       "['LotFrontage', 'LotArea', '1stFlrSF', '2ndFlrSF', 'House_Old']"
      ]
     },
     "execution_count": 16,
     "metadata": {},
     "output_type": "execute_result"
    }
   ],
   "source": [
    "cont_features = []\n",
    "for i in data.columns:\n",
    "    if i not in [\"MSSubClass\", \"MSZoning\", \"Street\", \"LotShape\", \"SalePrice\"]:\n",
    "        cont_features.append(i)\n",
    "        \n",
    "cont_features"
   ]
  },
  {
   "cell_type": "code",
   "execution_count": 17,
   "id": "8910ae94",
   "metadata": {
    "execution": {
     "iopub.execute_input": "2023-05-19T05:53:02.232998Z",
     "iopub.status.busy": "2023-05-19T05:53:02.232339Z",
     "iopub.status.idle": "2023-05-19T05:53:02.276601Z",
     "shell.execute_reply": "2023-05-19T05:53:02.275686Z"
    },
    "papermill": {
     "duration": 0.06497,
     "end_time": "2023-05-19T05:53:02.278863",
     "exception": false,
     "start_time": "2023-05-19T05:53:02.213893",
     "status": "completed"
    },
    "tags": []
   },
   "outputs": [
    {
     "data": {
      "text/plain": [
       "tensor([[   65.,  8450.,   856.,   854.,    20.],\n",
       "        [   80.,  9600.,  1262.,     0.,    47.],\n",
       "        [   68., 11250.,   920.,   866.,    22.],\n",
       "        ...,\n",
       "        [   66.,  9042.,  1188.,  1152.,    82.],\n",
       "        [   68.,  9717.,  1078.,     0.,    73.],\n",
       "        [   75.,  9937.,  1256.,     0.,    58.]])"
      ]
     },
     "execution_count": 17,
     "metadata": {},
     "output_type": "execute_result"
    }
   ],
   "source": [
    "### Stacking continuous variable to a tensor\n",
    "cont_values=np.stack([data[i].values for i in cont_features],axis=1)\n",
    "cont_values=torch.tensor(cont_values,dtype=torch.float)\n",
    "cont_values"
   ]
  },
  {
   "cell_type": "code",
   "execution_count": 51,
   "id": "22f3cda6",
   "metadata": {},
   "outputs": [
    {
     "data": {
      "text/plain": [
       "1201"
      ]
     },
     "execution_count": 51,
     "metadata": {},
     "output_type": "execute_result"
    }
   ],
   "source": [
    "len(cont_values)"
   ]
  },
  {
   "cell_type": "code",
   "execution_count": 19,
   "id": "ce3736b5",
   "metadata": {
    "execution": {
     "iopub.execute_input": "2023-05-19T05:53:02.315974Z",
     "iopub.status.busy": "2023-05-19T05:53:02.315300Z",
     "iopub.status.idle": "2023-05-19T05:53:02.327906Z",
     "shell.execute_reply": "2023-05-19T05:53:02.326909Z"
    },
    "papermill": {
     "duration": 0.033964,
     "end_time": "2023-05-19T05:53:02.330399",
     "exception": false,
     "start_time": "2023-05-19T05:53:02.296435",
     "status": "completed"
    },
    "tags": []
   },
   "outputs": [
    {
     "data": {
      "text/plain": [
       "tensor([[208500.],\n",
       "        [181500.],\n",
       "        [223500.],\n",
       "        ...,\n",
       "        [266500.],\n",
       "        [142125.],\n",
       "        [147500.]])"
      ]
     },
     "execution_count": 19,
     "metadata": {},
     "output_type": "execute_result"
    }
   ],
   "source": [
    "y = torch.tensor(data[\"SalePrice\"].values, dtype=torch.float).reshape(-1, 1)\n",
    "y"
   ]
  },
  {
   "cell_type": "code",
   "execution_count": 20,
   "id": "37ae1da6",
   "metadata": {
    "execution": {
     "iopub.execute_input": "2023-05-19T05:53:02.366769Z",
     "iopub.status.busy": "2023-05-19T05:53:02.366343Z",
     "iopub.status.idle": "2023-05-19T05:53:02.372115Z",
     "shell.execute_reply": "2023-05-19T05:53:02.371057Z"
    },
    "papermill": {
     "duration": 0.027106,
     "end_time": "2023-05-19T05:53:02.374840",
     "exception": false,
     "start_time": "2023-05-19T05:53:02.347734",
     "status": "completed"
    },
    "tags": []
   },
   "outputs": [
    {
     "name": "stdout",
     "output_type": "stream",
     "text": [
      "torch.Size([1201, 4])\n",
      "torch.Size([1201, 5])\n",
      "torch.Size([1201, 1])\n"
     ]
    }
   ],
   "source": [
    "print(cat_features.shape)\n",
    "print(cont_values.shape)\n",
    "print(y.shape)"
   ]
  },
  {
   "cell_type": "code",
   "execution_count": 21,
   "id": "3c53fa4b",
   "metadata": {
    "execution": {
     "iopub.execute_input": "2023-05-19T05:53:02.411815Z",
     "iopub.status.busy": "2023-05-19T05:53:02.411400Z",
     "iopub.status.idle": "2023-05-19T05:53:02.420270Z",
     "shell.execute_reply": "2023-05-19T05:53:02.419104Z"
    },
    "papermill": {
     "duration": 0.030228,
     "end_time": "2023-05-19T05:53:02.422649",
     "exception": false,
     "start_time": "2023-05-19T05:53:02.392421",
     "status": "completed"
    },
    "tags": []
   },
   "outputs": [
    {
     "data": {
      "text/plain": [
       "[15, 5, 2, 4]"
      ]
     },
     "execution_count": 21,
     "metadata": {},
     "output_type": "execute_result"
    }
   ],
   "source": [
    "cat_dims = [len(data[col].unique()) for col in [\"MSSubClass\", \"MSZoning\", \"Street\", \"LotShape\"]]\n",
    "cat_dims"
   ]
  },
  {
   "cell_type": "code",
   "execution_count": 22,
   "id": "a6870602",
   "metadata": {
    "execution": {
     "iopub.execute_input": "2023-05-19T05:53:02.459948Z",
     "iopub.status.busy": "2023-05-19T05:53:02.459477Z",
     "iopub.status.idle": "2023-05-19T05:53:02.468251Z",
     "shell.execute_reply": "2023-05-19T05:53:02.467002Z"
    },
    "papermill": {
     "duration": 0.030521,
     "end_time": "2023-05-19T05:53:02.470855",
     "exception": false,
     "start_time": "2023-05-19T05:53:02.440334",
     "status": "completed"
    },
    "tags": []
   },
   "outputs": [
    {
     "data": {
      "text/plain": [
       "[(15, 8), (5, 3), (2, 1), (4, 2)]"
      ]
     },
     "execution_count": 22,
     "metadata": {},
     "output_type": "execute_result"
    }
   ],
   "source": [
    "embedding_dim = [(x, min(50, (x + 1) // 2)) for x in cat_dims]\n",
    "embedding_dim"
   ]
  },
  {
   "cell_type": "code",
   "execution_count": null,
   "id": "e2f81124",
   "metadata": {
    "papermill": {
     "duration": 0.017651,
     "end_time": "2023-05-19T05:53:02.506535",
     "exception": false,
     "start_time": "2023-05-19T05:53:02.488884",
     "status": "completed"
    },
    "tags": []
   },
   "outputs": [],
   "source": []
  },
  {
   "cell_type": "code",
   "execution_count": 23,
   "id": "d2f30b04",
   "metadata": {
    "execution": {
     "iopub.execute_input": "2023-05-19T05:53:02.544613Z",
     "iopub.status.busy": "2023-05-19T05:53:02.544139Z",
     "iopub.status.idle": "2023-05-19T05:53:02.549525Z",
     "shell.execute_reply": "2023-05-19T05:53:02.548355Z"
    },
    "papermill": {
     "duration": 0.027515,
     "end_time": "2023-05-19T05:53:02.551891",
     "exception": false,
     "start_time": "2023-05-19T05:53:02.524376",
     "status": "completed"
    },
    "tags": []
   },
   "outputs": [],
   "source": [
    "import torch\n",
    "import torch.nn as nn\n",
    "import torch.nn.functional as F"
   ]
  },
  {
   "cell_type": "code",
   "execution_count": 24,
   "id": "2857d7db",
   "metadata": {
    "execution": {
     "iopub.execute_input": "2023-05-19T05:53:02.589349Z",
     "iopub.status.busy": "2023-05-19T05:53:02.588901Z",
     "iopub.status.idle": "2023-05-19T05:53:02.603459Z",
     "shell.execute_reply": "2023-05-19T05:53:02.601714Z"
    },
    "papermill": {
     "duration": 0.037218,
     "end_time": "2023-05-19T05:53:02.606933",
     "exception": false,
     "start_time": "2023-05-19T05:53:02.569715",
     "status": "completed"
    },
    "tags": []
   },
   "outputs": [
    {
     "data": {
      "text/plain": [
       "ModuleList(\n",
       "  (0): Embedding(15, 8)\n",
       "  (1): Embedding(5, 3)\n",
       "  (2): Embedding(2, 1)\n",
       "  (3): Embedding(4, 2)\n",
       ")"
      ]
     },
     "execution_count": 24,
     "metadata": {},
     "output_type": "execute_result"
    }
   ],
   "source": [
    "embed_representation = nn.ModuleList([nn.Embedding(inp, out) for inp, out in embedding_dim])\n",
    "embed_representation"
   ]
  },
  {
   "cell_type": "code",
   "execution_count": 25,
   "id": "744c573e",
   "metadata": {
    "execution": {
     "iopub.execute_input": "2023-05-19T05:53:02.646058Z",
     "iopub.status.busy": "2023-05-19T05:53:02.645664Z",
     "iopub.status.idle": "2023-05-19T05:53:02.652828Z",
     "shell.execute_reply": "2023-05-19T05:53:02.651960Z"
    },
    "papermill": {
     "duration": 0.02909,
     "end_time": "2023-05-19T05:53:02.655228",
     "exception": false,
     "start_time": "2023-05-19T05:53:02.626138",
     "status": "completed"
    },
    "tags": []
   },
   "outputs": [
    {
     "data": {
      "text/plain": [
       "tensor([[5, 3, 1, 3],\n",
       "        [0, 3, 1, 3],\n",
       "        [5, 3, 1, 0],\n",
       "        ...,\n",
       "        [6, 3, 1, 3],\n",
       "        [0, 3, 1, 3],\n",
       "        [0, 3, 1, 3]])"
      ]
     },
     "execution_count": 25,
     "metadata": {},
     "output_type": "execute_result"
    }
   ],
   "source": [
    "cat_features"
   ]
  },
  {
   "cell_type": "code",
   "execution_count": 26,
   "id": "3bf24688",
   "metadata": {
    "execution": {
     "iopub.execute_input": "2023-05-19T05:53:02.693895Z",
     "iopub.status.busy": "2023-05-19T05:53:02.693468Z",
     "iopub.status.idle": "2023-05-19T05:53:02.705057Z",
     "shell.execute_reply": "2023-05-19T05:53:02.704111Z"
    },
    "papermill": {
     "duration": 0.033496,
     "end_time": "2023-05-19T05:53:02.707360",
     "exception": false,
     "start_time": "2023-05-19T05:53:02.673864",
     "status": "completed"
    },
    "tags": []
   },
   "outputs": [
    {
     "data": {
      "text/plain": [
       "tensor([[5, 3, 1, 3],\n",
       "        [0, 3, 1, 3],\n",
       "        [5, 3, 1, 0],\n",
       "        [6, 3, 1, 0]])"
      ]
     },
     "execution_count": 26,
     "metadata": {},
     "output_type": "execute_result"
    }
   ],
   "source": [
    "cat_featuresz = cat_features[:4]\n",
    "cat_featuresz"
   ]
  },
  {
   "cell_type": "code",
   "execution_count": 27,
   "id": "2e38ce80",
   "metadata": {
    "execution": {
     "iopub.execute_input": "2023-05-19T05:53:02.783403Z",
     "iopub.status.busy": "2023-05-19T05:53:02.782655Z",
     "iopub.status.idle": "2023-05-19T05:53:02.795300Z",
     "shell.execute_reply": "2023-05-19T05:53:02.794152Z"
    },
    "papermill": {
     "duration": 0.035084,
     "end_time": "2023-05-19T05:53:02.798111",
     "exception": false,
     "start_time": "2023-05-19T05:53:02.763027",
     "status": "completed"
    },
    "tags": []
   },
   "outputs": [],
   "source": [
    "pd.set_option(\"display.max_rows\", 500)\n",
    "embedding_val = []\n",
    "for i, e in enumerate(embed_representation):\n",
    "    embedding_val.append(e(cat_features[:,i]))"
   ]
  },
  {
   "cell_type": "code",
   "execution_count": 28,
   "id": "0c74862d",
   "metadata": {
    "execution": {
     "iopub.execute_input": "2023-05-19T05:53:02.836680Z",
     "iopub.status.busy": "2023-05-19T05:53:02.836234Z",
     "iopub.status.idle": "2023-05-19T05:53:02.847393Z",
     "shell.execute_reply": "2023-05-19T05:53:02.846241Z"
    },
    "papermill": {
     "duration": 0.033294,
     "end_time": "2023-05-19T05:53:02.849699",
     "exception": false,
     "start_time": "2023-05-19T05:53:02.816405",
     "status": "completed"
    },
    "tags": []
   },
   "outputs": [
    {
     "data": {
      "text/plain": [
       "[tensor([[-0.5685, -1.1374, -0.6512,  ...,  0.8755,  0.9425, -0.6368],\n",
       "         [-1.2457, -0.8277, -0.5427,  ...,  1.9971,  0.1442,  0.3059],\n",
       "         [-0.5685, -1.1374, -0.6512,  ...,  0.8755,  0.9425, -0.6368],\n",
       "         ...,\n",
       "         [ 3.5337,  0.3586, -0.1212,  ...,  0.0297, -1.3739,  1.0510],\n",
       "         [-1.2457, -0.8277, -0.5427,  ...,  1.9971,  0.1442,  0.3059],\n",
       "         [-1.2457, -0.8277, -0.5427,  ...,  1.9971,  0.1442,  0.3059]],\n",
       "        grad_fn=<EmbeddingBackward0>),\n",
       " tensor([[-1.4118, -0.5453, -0.3487],\n",
       "         [-1.4118, -0.5453, -0.3487],\n",
       "         [-1.4118, -0.5453, -0.3487],\n",
       "         ...,\n",
       "         [-1.4118, -0.5453, -0.3487],\n",
       "         [-1.4118, -0.5453, -0.3487],\n",
       "         [-1.4118, -0.5453, -0.3487]], grad_fn=<EmbeddingBackward0>),\n",
       " tensor([[1.2303],\n",
       "         [1.2303],\n",
       "         [1.2303],\n",
       "         ...,\n",
       "         [1.2303],\n",
       "         [1.2303],\n",
       "         [1.2303]], grad_fn=<EmbeddingBackward0>),\n",
       " tensor([[0.2762, 0.2792],\n",
       "         [0.2762, 0.2792],\n",
       "         [0.4538, 0.2937],\n",
       "         ...,\n",
       "         [0.2762, 0.2792],\n",
       "         [0.2762, 0.2792],\n",
       "         [0.2762, 0.2792]], grad_fn=<EmbeddingBackward0>)]"
      ]
     },
     "execution_count": 28,
     "metadata": {},
     "output_type": "execute_result"
    }
   ],
   "source": [
    "embedding_val"
   ]
  },
  {
   "cell_type": "code",
   "execution_count": 29,
   "id": "8820ece7",
   "metadata": {
    "execution": {
     "iopub.execute_input": "2023-05-19T05:53:02.890815Z",
     "iopub.status.busy": "2023-05-19T05:53:02.890121Z",
     "iopub.status.idle": "2023-05-19T05:53:02.898946Z",
     "shell.execute_reply": "2023-05-19T05:53:02.897514Z"
    },
    "papermill": {
     "duration": 0.032484,
     "end_time": "2023-05-19T05:53:02.901496",
     "exception": false,
     "start_time": "2023-05-19T05:53:02.869012",
     "status": "completed"
    },
    "tags": []
   },
   "outputs": [
    {
     "data": {
      "text/plain": [
       "tensor([[-0.5685, -1.1374, -0.6512,  ...,  1.2303,  0.2762,  0.2792],\n",
       "        [-1.2457, -0.8277, -0.5427,  ...,  1.2303,  0.2762,  0.2792],\n",
       "        [-0.5685, -1.1374, -0.6512,  ...,  1.2303,  0.4538,  0.2937],\n",
       "        ...,\n",
       "        [ 3.5337,  0.3586, -0.1212,  ...,  1.2303,  0.2762,  0.2792],\n",
       "        [-1.2457, -0.8277, -0.5427,  ...,  1.2303,  0.2762,  0.2792],\n",
       "        [-1.2457, -0.8277, -0.5427,  ...,  1.2303,  0.2762,  0.2792]],\n",
       "       grad_fn=<CatBackward0>)"
      ]
     },
     "execution_count": 29,
     "metadata": {},
     "output_type": "execute_result"
    }
   ],
   "source": [
    "z = torch.cat(embedding_val, 1)\n",
    "z"
   ]
  },
  {
   "cell_type": "code",
   "execution_count": 30,
   "id": "e1ff729a",
   "metadata": {
    "execution": {
     "iopub.execute_input": "2023-05-19T05:53:02.940946Z",
     "iopub.status.busy": "2023-05-19T05:53:02.940570Z",
     "iopub.status.idle": "2023-05-19T05:53:02.945033Z",
     "shell.execute_reply": "2023-05-19T05:53:02.943945Z"
    },
    "papermill": {
     "duration": 0.02701,
     "end_time": "2023-05-19T05:53:02.947339",
     "exception": false,
     "start_time": "2023-05-19T05:53:02.920329",
     "status": "completed"
    },
    "tags": []
   },
   "outputs": [],
   "source": [
    "dropout = nn.Dropout(.4)"
   ]
  },
  {
   "cell_type": "code",
   "execution_count": 31,
   "id": "2b30d18f",
   "metadata": {
    "execution": {
     "iopub.execute_input": "2023-05-19T05:53:02.987121Z",
     "iopub.status.busy": "2023-05-19T05:53:02.986704Z",
     "iopub.status.idle": "2023-05-19T05:53:03.004950Z",
     "shell.execute_reply": "2023-05-19T05:53:03.003717Z"
    },
    "papermill": {
     "duration": 0.041331,
     "end_time": "2023-05-19T05:53:03.007516",
     "exception": false,
     "start_time": "2023-05-19T05:53:02.966185",
     "status": "completed"
    },
    "tags": []
   },
   "outputs": [
    {
     "data": {
      "text/plain": [
       "tensor([[-0.0000, -1.8957, -1.0853,  ...,  2.0505,  0.4604,  0.4653],\n",
       "        [-0.0000, -0.0000, -0.9046,  ...,  0.0000,  0.4604,  0.0000],\n",
       "        [-0.9475, -0.0000, -1.0853,  ...,  2.0505,  0.0000,  0.4895],\n",
       "        ...,\n",
       "        [ 0.0000,  0.0000, -0.2021,  ...,  0.0000,  0.4604,  0.0000],\n",
       "        [-2.0762, -0.0000, -0.9046,  ...,  0.0000,  0.4604,  0.0000],\n",
       "        [-2.0762, -1.3795, -0.0000,  ...,  0.0000,  0.4604,  0.4653]],\n",
       "       grad_fn=<MulBackward0>)"
      ]
     },
     "execution_count": 31,
     "metadata": {},
     "output_type": "execute_result"
    }
   ],
   "source": [
    "final_embed = dropout(z)\n",
    "final_embed"
   ]
  },
  {
   "cell_type": "code",
   "execution_count": null,
   "id": "d93410bf",
   "metadata": {
    "papermill": {
     "duration": 0.018434,
     "end_time": "2023-05-19T05:53:03.045695",
     "exception": false,
     "start_time": "2023-05-19T05:53:03.027261",
     "status": "completed"
    },
    "tags": []
   },
   "outputs": [],
   "source": []
  },
  {
   "cell_type": "code",
   "execution_count": 32,
   "id": "82a7c29e",
   "metadata": {
    "execution": {
     "iopub.execute_input": "2023-05-19T05:53:03.086622Z",
     "iopub.status.busy": "2023-05-19T05:53:03.084450Z",
     "iopub.status.idle": "2023-05-19T05:53:03.090941Z",
     "shell.execute_reply": "2023-05-19T05:53:03.090171Z"
    },
    "papermill": {
     "duration": 0.028885,
     "end_time": "2023-05-19T05:53:03.093283",
     "exception": false,
     "start_time": "2023-05-19T05:53:03.064398",
     "status": "completed"
    },
    "tags": []
   },
   "outputs": [],
   "source": [
    "import torch \n",
    "import torch.nn as nn\n",
    "import torch.functional as F"
   ]
  },
  {
   "cell_type": "code",
   "execution_count": 153,
   "id": "360888f6",
   "metadata": {
    "execution": {
     "iopub.execute_input": "2023-05-19T05:53:03.133762Z",
     "iopub.status.busy": "2023-05-19T05:53:03.133096Z",
     "iopub.status.idle": "2023-05-19T05:53:03.144852Z",
     "shell.execute_reply": "2023-05-19T05:53:03.144059Z"
    },
    "papermill": {
     "duration": 0.035075,
     "end_time": "2023-05-19T05:53:03.147340",
     "exception": false,
     "start_time": "2023-05-19T05:53:03.112265",
     "status": "completed"
    },
    "tags": []
   },
   "outputs": [],
   "source": [
    "class FeedForwardNN(nn.Module):\n",
    "    \n",
    "    def __init__(self, embedding_dim, n_cont, out_sz, layers, p=0.5):\n",
    "        super().__init__()\n",
    "        self.embeds = nn.ModuleList([nn.Embedding(inp, out) for inp, out in embedding_dim])\n",
    "        self.emb_drop = nn.Dropout(p)\n",
    "        self.bn_cont = nn.BatchNorm1d(n_cont)\n",
    "        \n",
    "        layerlist = []\n",
    "        n_emb = sum((out for imp, out in embedding_dim))\n",
    "        n_in = n_emb + n_cont\n",
    "    \n",
    "        for i in layers:\n",
    "            layerlist.append(nn.Linear(n_in, i))\n",
    "            layerlist.append(nn.ReLU(inplace=True))\n",
    "            layerlist.append(nn.BatchNorm1d(i))\n",
    "            layerlist.append(nn.Dropout(p))\n",
    "            n_in = i\n",
    "        layerlist.append(nn.Linear(layers[-1], out_sz))\n",
    "        self.layers = nn.Sequential(*layerlist)\n",
    "        \n",
    "    def forward(self, x_cat, x_cont):\n",
    "        embeddings = []\n",
    "        for i, e in enumerate(self.embeds):\n",
    "            embeddings.append(e(x_cat[:,i]))\n",
    "        x = torch.cat(embeddings, 1)\n",
    "        x = self.emb_drop(x)\n",
    "        \n",
    "        x_cont = self.bn_cont(x_cont)\n",
    "        x = torch.cat([x, x_cont], 1)\n",
    "        x = self.layers(x)\n",
    "        return x"
   ]
  },
  {
   "cell_type": "code",
   "execution_count": 154,
   "id": "d6f03059",
   "metadata": {},
   "outputs": [
    {
     "data": {
      "text/plain": [
       "[(15, 8), (5, 3), (2, 1), (4, 2)]"
      ]
     },
     "execution_count": 154,
     "metadata": {},
     "output_type": "execute_result"
    }
   ],
   "source": [
    "embedding_dim"
   ]
  },
  {
   "cell_type": "code",
   "execution_count": 155,
   "id": "a68053ef",
   "metadata": {},
   "outputs": [
    {
     "data": {
      "text/plain": [
       "5"
      ]
     },
     "execution_count": 155,
     "metadata": {},
     "output_type": "execute_result"
    }
   ],
   "source": [
    "len(cont_features)"
   ]
  },
  {
   "cell_type": "code",
   "execution_count": 156,
   "id": "e524356a",
   "metadata": {
    "execution": {
     "iopub.execute_input": "2023-05-19T05:53:03.187810Z",
     "iopub.status.busy": "2023-05-19T05:53:03.186758Z",
     "iopub.status.idle": "2023-05-19T05:53:03.203708Z",
     "shell.execute_reply": "2023-05-19T05:53:03.202700Z"
    },
    "papermill": {
     "duration": 0.039893,
     "end_time": "2023-05-19T05:53:03.206485",
     "exception": false,
     "start_time": "2023-05-19T05:53:03.166592",
     "status": "completed"
    },
    "tags": []
   },
   "outputs": [],
   "source": [
    "torch.manual_seed(100)\n",
    "model = FeedForwardNN(embedding_dim, len(cont_features), 1, [100, 50], p = 0.4)"
   ]
  },
  {
   "cell_type": "code",
   "execution_count": 157,
   "id": "cb39ac25",
   "metadata": {
    "execution": {
     "iopub.execute_input": "2023-05-19T05:53:03.294900Z",
     "iopub.status.busy": "2023-05-19T05:53:03.294209Z",
     "iopub.status.idle": "2023-05-19T05:53:03.300803Z",
     "shell.execute_reply": "2023-05-19T05:53:03.299955Z"
    },
    "papermill": {
     "duration": 0.029841,
     "end_time": "2023-05-19T05:53:03.302887",
     "exception": false,
     "start_time": "2023-05-19T05:53:03.273046",
     "status": "completed"
    },
    "tags": []
   },
   "outputs": [
    {
     "data": {
      "text/plain": [
       "FeedForwardNN(\n",
       "  (embeds): ModuleList(\n",
       "    (0): Embedding(15, 8)\n",
       "    (1): Embedding(5, 3)\n",
       "    (2): Embedding(2, 1)\n",
       "    (3): Embedding(4, 2)\n",
       "  )\n",
       "  (emb_drop): Dropout(p=0.4, inplace=False)\n",
       "  (bn_cont): BatchNorm1d(5, eps=1e-05, momentum=0.1, affine=True, track_running_stats=True)\n",
       "  (layers): Sequential(\n",
       "    (0): Linear(in_features=19, out_features=100, bias=True)\n",
       "    (1): ReLU(inplace=True)\n",
       "    (2): BatchNorm1d(100, eps=1e-05, momentum=0.1, affine=True, track_running_stats=True)\n",
       "    (3): Dropout(p=0.4, inplace=False)\n",
       "    (4): Linear(in_features=100, out_features=50, bias=True)\n",
       "    (5): ReLU(inplace=True)\n",
       "    (6): BatchNorm1d(50, eps=1e-05, momentum=0.1, affine=True, track_running_stats=True)\n",
       "    (7): Dropout(p=0.4, inplace=False)\n",
       "    (8): Linear(in_features=50, out_features=1, bias=True)\n",
       "  )\n",
       ")"
      ]
     },
     "execution_count": 157,
     "metadata": {},
     "output_type": "execute_result"
    }
   ],
   "source": [
    "model"
   ]
  },
  {
   "cell_type": "code",
   "execution_count": 158,
   "id": "5ef0d0d7",
   "metadata": {
    "execution": {
     "iopub.execute_input": "2023-05-19T05:53:03.343737Z",
     "iopub.status.busy": "2023-05-19T05:53:03.342416Z",
     "iopub.status.idle": "2023-05-19T05:53:03.348569Z",
     "shell.execute_reply": "2023-05-19T05:53:03.347638Z"
    },
    "papermill": {
     "duration": 0.028881,
     "end_time": "2023-05-19T05:53:03.350957",
     "exception": false,
     "start_time": "2023-05-19T05:53:03.322076",
     "status": "completed"
    },
    "tags": []
   },
   "outputs": [],
   "source": [
    "loss_function = nn.MSELoss()\n",
    "optimizer = torch.optim.Adam(model.parameters(), lr=0.01)"
   ]
  },
  {
   "cell_type": "code",
   "execution_count": 159,
   "id": "19dc782c",
   "metadata": {
    "execution": {
     "iopub.execute_input": "2023-05-19T05:53:03.391325Z",
     "iopub.status.busy": "2023-05-19T05:53:03.390931Z",
     "iopub.status.idle": "2023-05-19T05:53:03.397640Z",
     "shell.execute_reply": "2023-05-19T05:53:03.396553Z"
    },
    "papermill": {
     "duration": 0.029859,
     "end_time": "2023-05-19T05:53:03.400002",
     "exception": false,
     "start_time": "2023-05-19T05:53:03.370143",
     "status": "completed"
    },
    "tags": []
   },
   "outputs": [
    {
     "data": {
      "text/plain": [
       "(1201, 10)"
      ]
     },
     "execution_count": 159,
     "metadata": {},
     "output_type": "execute_result"
    }
   ],
   "source": [
    "data.shape"
   ]
  },
  {
   "cell_type": "code",
   "execution_count": 160,
   "id": "fbb10609",
   "metadata": {
    "execution": {
     "iopub.execute_input": "2023-05-19T05:53:03.491971Z",
     "iopub.status.busy": "2023-05-19T05:53:03.491575Z",
     "iopub.status.idle": "2023-05-19T05:53:03.498573Z",
     "shell.execute_reply": "2023-05-19T05:53:03.497467Z"
    },
    "papermill": {
     "duration": 0.030093,
     "end_time": "2023-05-19T05:53:03.500764",
     "exception": false,
     "start_time": "2023-05-19T05:53:03.470671",
     "status": "completed"
    },
    "tags": []
   },
   "outputs": [
    {
     "data": {
      "text/plain": [
       "tensor([[   65.,  8450.,   856.,   854.,    20.],\n",
       "        [   80.,  9600.,  1262.,     0.,    47.],\n",
       "        [   68., 11250.,   920.,   866.,    22.],\n",
       "        ...,\n",
       "        [   66.,  9042.,  1188.,  1152.,    82.],\n",
       "        [   68.,  9717.,  1078.,     0.,    73.],\n",
       "        [   75.,  9937.,  1256.,     0.,    58.]])"
      ]
     },
     "execution_count": 160,
     "metadata": {},
     "output_type": "execute_result"
    }
   ],
   "source": [
    "cont_values"
   ]
  },
  {
   "cell_type": "code",
   "execution_count": 161,
   "id": "d134f68f",
   "metadata": {},
   "outputs": [
    {
     "data": {
      "text/plain": [
       "torch.Size([1201, 5])"
      ]
     },
     "execution_count": 161,
     "metadata": {},
     "output_type": "execute_result"
    }
   ],
   "source": [
    "cont_values.shape"
   ]
  },
  {
   "cell_type": "code",
   "execution_count": 162,
   "id": "5f269fb8",
   "metadata": {
    "execution": {
     "iopub.execute_input": "2023-05-19T05:53:03.542056Z",
     "iopub.status.busy": "2023-05-19T05:53:03.541027Z",
     "iopub.status.idle": "2023-05-19T05:53:03.547972Z",
     "shell.execute_reply": "2023-05-19T05:53:03.547149Z"
    },
    "papermill": {
     "duration": 0.030358,
     "end_time": "2023-05-19T05:53:03.550621",
     "exception": false,
     "start_time": "2023-05-19T05:53:03.520263",
     "status": "completed"
    },
    "tags": []
   },
   "outputs": [],
   "source": [
    "# :::: TRAIN TEST SPLIT :::::\n",
    "batch_size = 1200\n",
    "test_size = int(batch_size * 0.15)\n",
    "\n",
    "train_cat = cat_features[:batch_size - test_size]\n",
    "test_cat = cat_features[batch_size - test_size:batch_size]\n",
    "\n",
    "train_cont = cont_values[:batch_size - test_size]\n",
    "test_cont = cont_values[batch_size - test_size : batch_size]\n",
    "\n",
    "y_train = y[:batch_size - test_size]\n",
    "y_test = y[batch_size - test_size : batch_size]"
   ]
  },
  {
   "cell_type": "code",
   "execution_count": 163,
   "id": "5a5c8691",
   "metadata": {
    "execution": {
     "iopub.execute_input": "2023-05-19T05:53:03.591548Z",
     "iopub.status.busy": "2023-05-19T05:53:03.591117Z",
     "iopub.status.idle": "2023-05-19T05:53:03.598136Z",
     "shell.execute_reply": "2023-05-19T05:53:03.596892Z"
    },
    "papermill": {
     "duration": 0.030776,
     "end_time": "2023-05-19T05:53:03.600818",
     "exception": false,
     "start_time": "2023-05-19T05:53:03.570042",
     "status": "completed"
    },
    "tags": []
   },
   "outputs": [
    {
     "name": "stdout",
     "output_type": "stream",
     "text": [
      "1020\n",
      "180\n",
      "1020\n",
      "180\n",
      "1020\n",
      "180\n"
     ]
    }
   ],
   "source": [
    "print(len(train_cat))\n",
    "print(len(test_cat))\n",
    "\n",
    "print(len(train_cont))\n",
    "print(len(test_cont))\n",
    "\n",
    "print(len(y_train))\n",
    "print(len(y_test))"
   ]
  },
  {
   "cell_type": "code",
   "execution_count": 164,
   "id": "6b4710b2",
   "metadata": {},
   "outputs": [
    {
     "name": "stdout",
     "output_type": "stream",
     "text": [
      "torch.Size([1020, 4])\n",
      "torch.Size([180, 4])\n",
      "torch.Size([1020, 5])\n",
      "torch.Size([180, 5])\n",
      "torch.Size([1020, 1])\n",
      "torch.Size([180, 1])\n"
     ]
    }
   ],
   "source": [
    "print(train_cat.shape)\n",
    "print(test_cat.shape)\n",
    "print(train_cont.shape)\n",
    "print(test_cont.shape)\n",
    "print(y_train.shape)\n",
    "print(y_test.shape)"
   ]
  },
  {
   "cell_type": "code",
   "execution_count": 165,
   "id": "65699875",
   "metadata": {
    "execution": {
     "iopub.execute_input": "2023-05-19T05:53:03.643279Z",
     "iopub.status.busy": "2023-05-19T05:53:03.642521Z",
     "iopub.status.idle": "2023-05-19T05:53:04.888369Z",
     "shell.execute_reply": "2023-05-19T05:53:04.886611Z"
    },
    "papermill": {
     "duration": 1.26909,
     "end_time": "2023-05-19T05:53:04.890415",
     "exception": true,
     "start_time": "2023-05-19T05:53:03.621325",
     "status": "failed"
    },
    "tags": []
   },
   "outputs": [
    {
     "name": "stdout",
     "output_type": "stream",
     "text": [
      "Epoch number: 1 and the loss : 200496.765625\n",
      "Epoch number: 11 and the loss : 200493.578125\n",
      "Epoch number: 21 and the loss : 200489.125\n",
      "Epoch number: 31 and the loss : 200482.546875\n",
      "Epoch number: 41 and the loss : 200473.21875\n",
      "Epoch number: 51 and the loss : 200462.140625\n",
      "Epoch number: 61 and the loss : 200447.328125\n",
      "Epoch number: 71 and the loss : 200429.125\n",
      "Epoch number: 81 and the loss : 200409.15625\n",
      "Epoch number: 91 and the loss : 200382.0625\n",
      "Epoch number: 101 and the loss : 200354.703125\n",
      "Epoch number: 111 and the loss : 200322.890625\n",
      "Epoch number: 121 and the loss : 200290.21875\n",
      "Epoch number: 131 and the loss : 200254.078125\n",
      "Epoch number: 141 and the loss : 200212.8125\n",
      "Epoch number: 151 and the loss : 200162.34375\n",
      "Epoch number: 161 and the loss : 200115.9375\n",
      "Epoch number: 171 and the loss : 200057.453125\n",
      "Epoch number: 181 and the loss : 200002.046875\n",
      "Epoch number: 191 and the loss : 199942.40625\n",
      "Epoch number: 201 and the loss : 199877.28125\n",
      "Epoch number: 211 and the loss : 199809.390625\n",
      "Epoch number: 221 and the loss : 199749.828125\n",
      "Epoch number: 231 and the loss : 199665.953125\n",
      "Epoch number: 241 and the loss : 199597.390625\n",
      "Epoch number: 251 and the loss : 199521.6875\n",
      "Epoch number: 261 and the loss : 199414.9375\n",
      "Epoch number: 271 and the loss : 199331.671875\n",
      "Epoch number: 281 and the loss : 199237.609375\n",
      "Epoch number: 291 and the loss : 199147.359375\n",
      "Epoch number: 301 and the loss : 199040.21875\n",
      "Epoch number: 311 and the loss : 198929.25\n",
      "Epoch number: 321 and the loss : 198815.046875\n",
      "Epoch number: 331 and the loss : 198746.4375\n",
      "Epoch number: 341 and the loss : 198602.828125\n",
      "Epoch number: 351 and the loss : 198479.328125\n",
      "Epoch number: 361 and the loss : 198414.640625\n",
      "Epoch number: 371 and the loss : 198219.5\n",
      "Epoch number: 381 and the loss : 198098.96875\n",
      "Epoch number: 391 and the loss : 197982.953125\n",
      "Epoch number: 401 and the loss : 197878.359375\n",
      "Epoch number: 411 and the loss : 197726.03125\n",
      "Epoch number: 421 and the loss : 197534.140625\n",
      "Epoch number: 431 and the loss : 197457.53125\n",
      "Epoch number: 441 and the loss : 197312.78125\n",
      "Epoch number: 451 and the loss : 197113.765625\n",
      "Epoch number: 461 and the loss : 196985.671875\n",
      "Epoch number: 471 and the loss : 196846.234375\n",
      "Epoch number: 481 and the loss : 196679.875\n",
      "Epoch number: 491 and the loss : 196521.984375\n",
      "Epoch number: 501 and the loss : 196372.9375\n",
      "Epoch number: 511 and the loss : 196144.59375\n",
      "Epoch number: 521 and the loss : 196037.859375\n",
      "Epoch number: 531 and the loss : 195781.828125\n",
      "Epoch number: 541 and the loss : 195646.125\n",
      "Epoch number: 551 and the loss : 195510.75\n",
      "Epoch number: 561 and the loss : 195200.953125\n",
      "Epoch number: 571 and the loss : 195116.109375\n",
      "Epoch number: 581 and the loss : 194876.71875\n",
      "Epoch number: 591 and the loss : 194728.078125\n",
      "Epoch number: 601 and the loss : 194442.75\n",
      "Epoch number: 611 and the loss : 194304.796875\n",
      "Epoch number: 621 and the loss : 194049.78125\n",
      "Epoch number: 631 and the loss : 193844.734375\n",
      "Epoch number: 641 and the loss : 193679.078125\n",
      "Epoch number: 651 and the loss : 193544.375\n",
      "Epoch number: 661 and the loss : 193239.640625\n",
      "Epoch number: 671 and the loss : 193027.0625\n",
      "Epoch number: 681 and the loss : 192834.765625\n",
      "Epoch number: 691 and the loss : 192604.75\n",
      "Epoch number: 701 and the loss : 192296.8125\n",
      "Epoch number: 711 and the loss : 192038.3125\n",
      "Epoch number: 721 and the loss : 192049.109375\n",
      "Epoch number: 731 and the loss : 191758.953125\n",
      "Epoch number: 741 and the loss : 191345.8125\n",
      "Epoch number: 751 and the loss : 191273.8125\n",
      "Epoch number: 761 and the loss : 191004.65625\n",
      "Epoch number: 771 and the loss : 190760.390625\n",
      "Epoch number: 781 and the loss : 190460.59375\n",
      "Epoch number: 791 and the loss : 190255.546875\n",
      "Epoch number: 801 and the loss : 190080.5\n",
      "Epoch number: 811 and the loss : 189779.59375\n",
      "Epoch number: 821 and the loss : 189406.359375\n",
      "Epoch number: 831 and the loss : 189205.625\n",
      "Epoch number: 841 and the loss : 188957.5\n",
      "Epoch number: 851 and the loss : 188689.171875\n",
      "Epoch number: 861 and the loss : 188444.1875\n",
      "Epoch number: 871 and the loss : 188218.609375\n",
      "Epoch number: 881 and the loss : 187729.421875\n",
      "Epoch number: 891 and the loss : 187514.046875\n",
      "Epoch number: 901 and the loss : 187318.578125\n",
      "Epoch number: 911 and the loss : 186948.9375\n",
      "Epoch number: 921 and the loss : 186810.875\n",
      "Epoch number: 931 and the loss : 186521.09375\n",
      "Epoch number: 941 and the loss : 186211.515625\n",
      "Epoch number: 951 and the loss : 185861.453125\n",
      "Epoch number: 961 and the loss : 185555.921875\n",
      "Epoch number: 971 and the loss : 185178.734375\n",
      "Epoch number: 981 and the loss : 184885.96875\n",
      "Epoch number: 991 and the loss : 184705.109375\n",
      "Epoch number: 1001 and the loss : 184415.34375\n",
      "Epoch number: 1011 and the loss : 184174.796875\n",
      "Epoch number: 1021 and the loss : 183639.9375\n",
      "Epoch number: 1031 and the loss : 183498.21875\n",
      "Epoch number: 1041 and the loss : 182966.265625\n",
      "Epoch number: 1051 and the loss : 182698.328125\n",
      "Epoch number: 1061 and the loss : 182468.734375\n",
      "Epoch number: 1071 and the loss : 182322.0625\n",
      "Epoch number: 1081 and the loss : 181677.96875\n",
      "Epoch number: 1091 and the loss : 181456.265625\n",
      "Epoch number: 1101 and the loss : 181162.375\n",
      "Epoch number: 1111 and the loss : 180787.5\n",
      "Epoch number: 1121 and the loss : 180567.109375\n",
      "Epoch number: 1131 and the loss : 180321.734375\n",
      "Epoch number: 1141 and the loss : 179742.734375\n",
      "Epoch number: 1151 and the loss : 179390.34375\n",
      "Epoch number: 1161 and the loss : 179312.9375\n",
      "Epoch number: 1171 and the loss : 179174.65625\n",
      "Epoch number: 1181 and the loss : 178434.0\n",
      "Epoch number: 1191 and the loss : 178244.296875\n",
      "Epoch number: 1201 and the loss : 177567.71875\n",
      "Epoch number: 1211 and the loss : 177319.46875\n",
      "Epoch number: 1221 and the loss : 177062.203125\n",
      "Epoch number: 1231 and the loss : 176803.5\n",
      "Epoch number: 1241 and the loss : 176580.296875\n",
      "Epoch number: 1251 and the loss : 176385.453125\n",
      "Epoch number: 1261 and the loss : 175276.734375\n",
      "Epoch number: 1271 and the loss : 175320.765625\n",
      "Epoch number: 1281 and the loss : 174694.0\n",
      "Epoch number: 1291 and the loss : 174593.75\n",
      "Epoch number: 1301 and the loss : 173900.359375\n",
      "Epoch number: 1311 and the loss : 173739.390625\n",
      "Epoch number: 1321 and the loss : 173511.140625\n",
      "Epoch number: 1331 and the loss : 172967.203125\n",
      "Epoch number: 1341 and the loss : 172454.203125\n",
      "Epoch number: 1351 and the loss : 172518.375\n",
      "Epoch number: 1361 and the loss : 171988.375\n",
      "Epoch number: 1371 and the loss : 171598.265625\n",
      "Epoch number: 1381 and the loss : 171045.578125\n",
      "Epoch number: 1391 and the loss : 170524.828125\n",
      "Epoch number: 1401 and the loss : 170481.484375\n",
      "Epoch number: 1411 and the loss : 169793.140625\n",
      "Epoch number: 1421 and the loss : 169763.203125\n",
      "Epoch number: 1431 and the loss : 169265.25\n",
      "Epoch number: 1441 and the loss : 169153.828125\n",
      "Epoch number: 1451 and the loss : 168533.75\n",
      "Epoch number: 1461 and the loss : 167951.71875\n",
      "Epoch number: 1471 and the loss : 167867.015625\n",
      "Epoch number: 1481 and the loss : 167353.671875\n",
      "Epoch number: 1491 and the loss : 166630.890625\n",
      "Epoch number: 1501 and the loss : 166409.921875\n",
      "Epoch number: 1511 and the loss : 166074.203125\n",
      "Epoch number: 1521 and the loss : 165533.34375\n",
      "Epoch number: 1531 and the loss : 164878.890625\n",
      "Epoch number: 1541 and the loss : 164451.953125\n",
      "Epoch number: 1551 and the loss : 164286.296875\n",
      "Epoch number: 1561 and the loss : 163935.21875\n",
      "Epoch number: 1571 and the loss : 163553.8125\n",
      "Epoch number: 1581 and the loss : 162845.15625\n",
      "Epoch number: 1591 and the loss : 162987.578125\n",
      "Epoch number: 1601 and the loss : 162322.90625\n",
      "Epoch number: 1611 and the loss : 161501.359375\n",
      "Epoch number: 1621 and the loss : 161584.5625\n",
      "Epoch number: 1631 and the loss : 161290.96875\n",
      "Epoch number: 1641 and the loss : 160080.203125\n",
      "Epoch number: 1651 and the loss : 159755.921875\n",
      "Epoch number: 1661 and the loss : 160128.875\n",
      "Epoch number: 1671 and the loss : 159197.0\n",
      "Epoch number: 1681 and the loss : 158854.75\n",
      "Epoch number: 1691 and the loss : 158391.34375\n",
      "Epoch number: 1701 and the loss : 158004.40625\n",
      "Epoch number: 1711 and the loss : 157170.96875\n",
      "Epoch number: 1721 and the loss : 156851.890625\n",
      "Epoch number: 1731 and the loss : 156614.34375\n",
      "Epoch number: 1741 and the loss : 156062.328125\n",
      "Epoch number: 1751 and the loss : 156181.96875\n",
      "Epoch number: 1761 and the loss : 155236.296875\n",
      "Epoch number: 1771 and the loss : 154331.5625\n",
      "Epoch number: 1781 and the loss : 153798.84375\n",
      "Epoch number: 1791 and the loss : 154026.140625\n",
      "Epoch number: 1801 and the loss : 154086.734375\n",
      "Epoch number: 1811 and the loss : 153389.453125\n",
      "Epoch number: 1821 and the loss : 152004.109375\n",
      "Epoch number: 1831 and the loss : 151442.59375\n",
      "Epoch number: 1841 and the loss : 151678.546875\n",
      "Epoch number: 1851 and the loss : 151394.953125\n",
      "Epoch number: 1861 and the loss : 150563.875\n",
      "Epoch number: 1871 and the loss : 150387.125\n",
      "Epoch number: 1881 and the loss : 150072.921875\n",
      "Epoch number: 1891 and the loss : 149343.515625\n",
      "Epoch number: 1901 and the loss : 149412.015625\n",
      "Epoch number: 1911 and the loss : 148281.296875\n",
      "Epoch number: 1921 and the loss : 147383.40625\n",
      "Epoch number: 1931 and the loss : 147679.15625\n",
      "Epoch number: 1941 and the loss : 146821.8125\n",
      "Epoch number: 1951 and the loss : 146093.671875\n",
      "Epoch number: 1961 and the loss : 145970.953125\n",
      "Epoch number: 1971 and the loss : 145926.703125\n",
      "Epoch number: 1981 and the loss : 145372.390625\n",
      "Epoch number: 1991 and the loss : 144206.3125\n",
      "Epoch number: 2001 and the loss : 143742.609375\n",
      "Epoch number: 2011 and the loss : 143532.15625\n",
      "Epoch number: 2021 and the loss : 142177.75\n",
      "Epoch number: 2031 and the loss : 142367.59375\n",
      "Epoch number: 2041 and the loss : 142572.0\n",
      "Epoch number: 2051 and the loss : 141585.734375\n",
      "Epoch number: 2061 and the loss : 141241.203125\n",
      "Epoch number: 2071 and the loss : 140886.390625\n",
      "Epoch number: 2081 and the loss : 139866.1875\n",
      "Epoch number: 2091 and the loss : 140736.578125\n",
      "Epoch number: 2101 and the loss : 138902.90625\n",
      "Epoch number: 2111 and the loss : 138892.328125\n",
      "Epoch number: 2121 and the loss : 137749.09375\n",
      "Epoch number: 2131 and the loss : 137306.0625\n",
      "Epoch number: 2141 and the loss : 136871.875\n",
      "Epoch number: 2151 and the loss : 136796.40625\n",
      "Epoch number: 2161 and the loss : 136897.578125\n",
      "Epoch number: 2171 and the loss : 135860.734375\n",
      "Epoch number: 2181 and the loss : 135778.3125\n",
      "Epoch number: 2191 and the loss : 134523.890625\n",
      "Epoch number: 2201 and the loss : 135211.734375\n",
      "Epoch number: 2211 and the loss : 133852.03125\n",
      "Epoch number: 2221 and the loss : 133300.546875\n",
      "Epoch number: 2231 and the loss : 132655.59375\n",
      "Epoch number: 2241 and the loss : 131807.828125\n",
      "Epoch number: 2251 and the loss : 131960.859375\n",
      "Epoch number: 2261 and the loss : 131267.890625\n",
      "Epoch number: 2271 and the loss : 130490.59375\n",
      "Epoch number: 2281 and the loss : 130857.3359375\n",
      "Epoch number: 2291 and the loss : 129619.171875\n",
      "Epoch number: 2301 and the loss : 128665.1953125\n",
      "Epoch number: 2311 and the loss : 129504.1953125\n",
      "Epoch number: 2321 and the loss : 128835.2421875\n",
      "Epoch number: 2331 and the loss : 127604.3671875\n",
      "Epoch number: 2341 and the loss : 127066.796875\n",
      "Epoch number: 2351 and the loss : 126812.578125\n",
      "Epoch number: 2361 and the loss : 125938.7890625\n",
      "Epoch number: 2371 and the loss : 125437.59375\n",
      "Epoch number: 2381 and the loss : 125312.296875\n",
      "Epoch number: 2391 and the loss : 124626.53125\n",
      "Epoch number: 2401 and the loss : 124121.59375\n",
      "Epoch number: 2411 and the loss : 123869.65625\n",
      "Epoch number: 2421 and the loss : 123429.4609375\n",
      "Epoch number: 2431 and the loss : 122079.328125\n",
      "Epoch number: 2441 and the loss : 121851.1953125\n",
      "Epoch number: 2451 and the loss : 122079.296875\n",
      "Epoch number: 2461 and the loss : 120969.046875\n",
      "Epoch number: 2471 and the loss : 120612.6171875\n",
      "Epoch number: 2481 and the loss : 120267.96875\n",
      "Epoch number: 2491 and the loss : 119677.1484375\n",
      "Epoch number: 2501 and the loss : 119544.6796875\n",
      "Epoch number: 2511 and the loss : 118472.6171875\n",
      "Epoch number: 2521 and the loss : 118053.5078125\n",
      "Epoch number: 2531 and the loss : 118042.3046875\n",
      "Epoch number: 2541 and the loss : 116682.1328125\n",
      "Epoch number: 2551 and the loss : 116869.0234375\n",
      "Epoch number: 2561 and the loss : 116299.6015625\n",
      "Epoch number: 2571 and the loss : 116072.828125\n",
      "Epoch number: 2581 and the loss : 115068.015625\n",
      "Epoch number: 2591 and the loss : 114729.9375\n",
      "Epoch number: 2601 and the loss : 113954.6953125\n",
      "Epoch number: 2611 and the loss : 112953.96875\n",
      "Epoch number: 2621 and the loss : 113037.53125\n",
      "Epoch number: 2631 and the loss : 111697.1953125\n",
      "Epoch number: 2641 and the loss : 112313.5234375\n",
      "Epoch number: 2651 and the loss : 111720.1953125\n",
      "Epoch number: 2661 and the loss : 109792.1171875\n",
      "Epoch number: 2671 and the loss : 111169.34375\n",
      "Epoch number: 2681 and the loss : 109942.8046875\n",
      "Epoch number: 2691 and the loss : 109846.2734375\n",
      "Epoch number: 2701 and the loss : 108850.921875\n",
      "Epoch number: 2711 and the loss : 109556.8515625\n",
      "Epoch number: 2721 and the loss : 108800.421875\n",
      "Epoch number: 2731 and the loss : 107900.2734375\n",
      "Epoch number: 2741 and the loss : 107703.703125\n",
      "Epoch number: 2751 and the loss : 107201.609375\n",
      "Epoch number: 2761 and the loss : 106960.34375\n",
      "Epoch number: 2771 and the loss : 105216.8359375\n",
      "Epoch number: 2781 and the loss : 105807.1875\n",
      "Epoch number: 2791 and the loss : 105483.7890625\n",
      "Epoch number: 2801 and the loss : 104128.3046875\n",
      "Epoch number: 2811 and the loss : 104017.09375\n",
      "Epoch number: 2821 and the loss : 102986.453125\n",
      "Epoch number: 2831 and the loss : 102984.4921875\n",
      "Epoch number: 2841 and the loss : 102032.6328125\n",
      "Epoch number: 2851 and the loss : 102290.078125\n",
      "Epoch number: 2861 and the loss : 101608.4921875\n",
      "Epoch number: 2871 and the loss : 101056.265625\n",
      "Epoch number: 2881 and the loss : 101144.6640625\n",
      "Epoch number: 2891 and the loss : 100669.8203125\n",
      "Epoch number: 2901 and the loss : 99194.890625\n",
      "Epoch number: 2911 and the loss : 99138.046875\n",
      "Epoch number: 2921 and the loss : 97841.3046875\n",
      "Epoch number: 2931 and the loss : 97143.6015625\n",
      "Epoch number: 2941 and the loss : 96624.8125\n",
      "Epoch number: 2951 and the loss : 96214.78125\n",
      "Epoch number: 2961 and the loss : 96335.9375\n",
      "Epoch number: 2971 and the loss : 95510.5625\n",
      "Epoch number: 2981 and the loss : 95541.3125\n",
      "Epoch number: 2991 and the loss : 94570.109375\n",
      "Epoch number: 3001 and the loss : 94262.890625\n",
      "Epoch number: 3011 and the loss : 93586.1953125\n",
      "Epoch number: 3021 and the loss : 93738.515625\n",
      "Epoch number: 3031 and the loss : 92790.2734375\n",
      "Epoch number: 3041 and the loss : 92348.109375\n",
      "Epoch number: 3051 and the loss : 91858.3828125\n",
      "Epoch number: 3061 and the loss : 91564.359375\n",
      "Epoch number: 3071 and the loss : 91703.359375\n",
      "Epoch number: 3081 and the loss : 89195.6875\n",
      "Epoch number: 3091 and the loss : 89021.0078125\n",
      "Epoch number: 3101 and the loss : 89368.90625\n",
      "Epoch number: 3111 and the loss : 88728.3515625\n",
      "Epoch number: 3121 and the loss : 89196.90625\n",
      "Epoch number: 3131 and the loss : 87912.71875\n",
      "Epoch number: 3141 and the loss : 87435.6640625\n",
      "Epoch number: 3151 and the loss : 86270.703125\n",
      "Epoch number: 3161 and the loss : 87010.7265625\n",
      "Epoch number: 3171 and the loss : 86042.6484375\n",
      "Epoch number: 3181 and the loss : 86119.7890625\n",
      "Epoch number: 3191 and the loss : 84275.8984375\n",
      "Epoch number: 3201 and the loss : 84938.4296875\n",
      "Epoch number: 3211 and the loss : 84822.7890625\n",
      "Epoch number: 3221 and the loss : 82426.1953125\n",
      "Epoch number: 3231 and the loss : 83416.4609375\n",
      "Epoch number: 3241 and the loss : 82289.0\n",
      "Epoch number: 3251 and the loss : 82280.46875\n",
      "Epoch number: 3261 and the loss : 81775.0234375\n",
      "Epoch number: 3271 and the loss : 80956.4453125\n",
      "Epoch number: 3281 and the loss : 81456.1640625\n",
      "Epoch number: 3291 and the loss : 80118.7578125\n",
      "Epoch number: 3301 and the loss : 79465.5703125\n",
      "Epoch number: 3311 and the loss : 78781.125\n",
      "Epoch number: 3321 and the loss : 77779.4140625\n",
      "Epoch number: 3331 and the loss : 78647.28125\n",
      "Epoch number: 3341 and the loss : 77339.125\n",
      "Epoch number: 3351 and the loss : 77198.34375\n",
      "Epoch number: 3361 and the loss : 78446.6875\n",
      "Epoch number: 3371 and the loss : 76550.5703125\n",
      "Epoch number: 3381 and the loss : 75699.7890625\n",
      "Epoch number: 3391 and the loss : 75867.6171875\n",
      "Epoch number: 3401 and the loss : 74353.328125\n",
      "Epoch number: 3411 and the loss : 76670.1796875\n",
      "Epoch number: 3421 and the loss : 72639.8359375\n",
      "Epoch number: 3431 and the loss : 72985.8671875\n",
      "Epoch number: 3441 and the loss : 73921.5\n",
      "Epoch number: 3451 and the loss : 72945.734375\n",
      "Epoch number: 3461 and the loss : 71919.015625\n",
      "Epoch number: 3471 and the loss : 72392.5546875\n",
      "Epoch number: 3481 and the loss : 71671.640625\n",
      "Epoch number: 3491 and the loss : 70345.3515625\n",
      "Epoch number: 3501 and the loss : 70463.7890625\n",
      "Epoch number: 3511 and the loss : 69248.046875\n",
      "Epoch number: 3521 and the loss : 68342.734375\n",
      "Epoch number: 3531 and the loss : 67702.6171875\n",
      "Epoch number: 3541 and the loss : 68537.9296875\n",
      "Epoch number: 3551 and the loss : 67688.1328125\n",
      "Epoch number: 3561 and the loss : 67179.1640625\n",
      "Epoch number: 3571 and the loss : 65482.51171875\n",
      "Epoch number: 3581 and the loss : 65466.0234375\n",
      "Epoch number: 3591 and the loss : 65691.1015625\n",
      "Epoch number: 3601 and the loss : 64425.0703125\n",
      "Epoch number: 3611 and the loss : 64014.7578125\n",
      "Epoch number: 3621 and the loss : 63520.28125\n",
      "Epoch number: 3631 and the loss : 64916.92578125\n",
      "Epoch number: 3641 and the loss : 62781.9609375\n",
      "Epoch number: 3651 and the loss : 62156.57421875\n",
      "Epoch number: 3661 and the loss : 63124.69921875\n",
      "Epoch number: 3671 and the loss : 62214.6015625\n",
      "Epoch number: 3681 and the loss : 61270.83203125\n",
      "Epoch number: 3691 and the loss : 61770.2109375\n",
      "Epoch number: 3701 and the loss : 61406.875\n",
      "Epoch number: 3711 and the loss : 59550.06640625\n",
      "Epoch number: 3721 and the loss : 58858.53125\n",
      "Epoch number: 3731 and the loss : 59397.22265625\n",
      "Epoch number: 3741 and the loss : 59491.34375\n",
      "Epoch number: 3751 and the loss : 58480.36328125\n",
      "Epoch number: 3761 and the loss : 58261.984375\n",
      "Epoch number: 3771 and the loss : 58281.171875\n",
      "Epoch number: 3781 and the loss : 57010.46484375\n",
      "Epoch number: 3791 and the loss : 55603.2578125\n",
      "Epoch number: 3801 and the loss : 56641.296875\n",
      "Epoch number: 3811 and the loss : 55680.5234375\n",
      "Epoch number: 3821 and the loss : 55384.8359375\n",
      "Epoch number: 3831 and the loss : 55447.921875\n",
      "Epoch number: 3841 and the loss : 53294.1328125\n",
      "Epoch number: 3851 and the loss : 54284.92578125\n",
      "Epoch number: 3861 and the loss : 54080.48828125\n",
      "Epoch number: 3871 and the loss : 52949.99609375\n",
      "Epoch number: 3881 and the loss : 52492.4921875\n",
      "Epoch number: 3891 and the loss : 51930.11328125\n",
      "Epoch number: 3901 and the loss : 51120.9921875\n",
      "Epoch number: 3911 and the loss : 52359.76171875\n",
      "Epoch number: 3921 and the loss : 51233.5859375\n",
      "Epoch number: 3931 and the loss : 52661.83203125\n",
      "Epoch number: 3941 and the loss : 51226.36328125\n",
      "Epoch number: 3951 and the loss : 50315.109375\n",
      "Epoch number: 3961 and the loss : 49337.97265625\n",
      "Epoch number: 3971 and the loss : 48938.2890625\n",
      "Epoch number: 3981 and the loss : 48790.109375\n",
      "Epoch number: 3991 and the loss : 47345.54296875\n",
      "Epoch number: 4001 and the loss : 47461.02734375\n",
      "Epoch number: 4011 and the loss : 48102.22265625\n",
      "Epoch number: 4021 and the loss : 47732.9609375\n",
      "Epoch number: 4031 and the loss : 46503.14453125\n",
      "Epoch number: 4041 and the loss : 46132.4375\n",
      "Epoch number: 4051 and the loss : 45471.54296875\n",
      "Epoch number: 4061 and the loss : 46415.25390625\n",
      "Epoch number: 4071 and the loss : 44993.8671875\n",
      "Epoch number: 4081 and the loss : 46598.7890625\n",
      "Epoch number: 4091 and the loss : 45696.6171875\n",
      "Epoch number: 4101 and the loss : 44301.84765625\n",
      "Epoch number: 4111 and the loss : 45240.23046875\n",
      "Epoch number: 4121 and the loss : 45225.296875\n",
      "Epoch number: 4131 and the loss : 44065.52734375\n",
      "Epoch number: 4141 and the loss : 42874.8046875\n",
      "Epoch number: 4151 and the loss : 43289.64453125\n",
      "Epoch number: 4161 and the loss : 49875.76953125\n",
      "Epoch number: 4171 and the loss : 41627.29296875\n",
      "Epoch number: 4181 and the loss : 40867.7734375\n",
      "Epoch number: 4191 and the loss : 42358.5078125\n",
      "Epoch number: 4201 and the loss : 41931.875\n",
      "Epoch number: 4211 and the loss : 42426.51171875\n",
      "Epoch number: 4221 and the loss : 41383.6875\n",
      "Epoch number: 4231 and the loss : 41982.125\n",
      "Epoch number: 4241 and the loss : 39845.05078125\n",
      "Epoch number: 4251 and the loss : 41810.05078125\n",
      "Epoch number: 4261 and the loss : 39273.18359375\n",
      "Epoch number: 4271 and the loss : 40881.140625\n",
      "Epoch number: 4281 and the loss : 41899.46875\n",
      "Epoch number: 4291 and the loss : 40062.0859375\n",
      "Epoch number: 4301 and the loss : 38776.5234375\n",
      "Epoch number: 4311 and the loss : 39429.73828125\n",
      "Epoch number: 4321 and the loss : 39417.0390625\n",
      "Epoch number: 4331 and the loss : 39609.2578125\n",
      "Epoch number: 4341 and the loss : 45421.09765625\n",
      "Epoch number: 4351 and the loss : 38863.828125\n",
      "Epoch number: 4361 and the loss : 39218.55078125\n",
      "Epoch number: 4371 and the loss : 37743.55078125\n",
      "Epoch number: 4381 and the loss : 38343.8671875\n",
      "Epoch number: 4391 and the loss : 37562.77734375\n",
      "Epoch number: 4401 and the loss : 37573.609375\n",
      "Epoch number: 4411 and the loss : 41629.51171875\n",
      "Epoch number: 4421 and the loss : 38848.0546875\n",
      "Epoch number: 4431 and the loss : 37999.625\n",
      "Epoch number: 4441 and the loss : 36033.91796875\n",
      "Epoch number: 4451 and the loss : 42343.40625\n",
      "Epoch number: 4461 and the loss : 37972.8046875\n",
      "Epoch number: 4471 and the loss : 37947.421875\n",
      "Epoch number: 4481 and the loss : 36929.72265625\n",
      "Epoch number: 4491 and the loss : 36469.6171875\n",
      "Epoch number: 4501 and the loss : 36387.38671875\n",
      "Epoch number: 4511 and the loss : 36604.8515625\n",
      "Epoch number: 4521 and the loss : 38059.421875\n",
      "Epoch number: 4531 and the loss : 35967.55078125\n",
      "Epoch number: 4541 and the loss : 36502.24609375\n",
      "Epoch number: 4551 and the loss : 35512.0703125\n",
      "Epoch number: 4561 and the loss : 35874.06640625\n",
      "Epoch number: 4571 and the loss : 34958.91015625\n",
      "Epoch number: 4581 and the loss : 35987.203125\n",
      "Epoch number: 4591 and the loss : 36275.88671875\n",
      "Epoch number: 4601 and the loss : 35735.6953125\n",
      "Epoch number: 4611 and the loss : 36541.01953125\n",
      "Epoch number: 4621 and the loss : 37713.41796875\n",
      "Epoch number: 4631 and the loss : 34747.6484375\n",
      "Epoch number: 4641 and the loss : 36091.0625\n",
      "Epoch number: 4651 and the loss : 35758.54296875\n",
      "Epoch number: 4661 and the loss : 36837.9609375\n",
      "Epoch number: 4671 and the loss : 34399.8828125\n",
      "Epoch number: 4681 and the loss : 34427.05859375\n",
      "Epoch number: 4691 and the loss : 36287.1328125\n",
      "Epoch number: 4701 and the loss : 36370.86328125\n",
      "Epoch number: 4711 and the loss : 34543.0625\n",
      "Epoch number: 4721 and the loss : 35379.3203125\n",
      "Epoch number: 4731 and the loss : 34233.79296875\n",
      "Epoch number: 4741 and the loss : 35105.2265625\n",
      "Epoch number: 4751 and the loss : 34645.296875\n",
      "Epoch number: 4761 and the loss : 35173.11328125\n",
      "Epoch number: 4771 and the loss : 37827.55859375\n",
      "Epoch number: 4781 and the loss : 34183.58203125\n",
      "Epoch number: 4791 and the loss : 35458.8828125\n",
      "Epoch number: 4801 and the loss : 33203.29296875\n",
      "Epoch number: 4811 and the loss : 34953.44140625\n",
      "Epoch number: 4821 and the loss : 34234.97265625\n",
      "Epoch number: 4831 and the loss : 36090.859375\n",
      "Epoch number: 4841 and the loss : 35004.84375\n",
      "Epoch number: 4851 and the loss : 34341.625\n",
      "Epoch number: 4861 and the loss : 36787.40625\n",
      "Epoch number: 4871 and the loss : 35226.05078125\n",
      "Epoch number: 4881 and the loss : 34148.484375\n",
      "Epoch number: 4891 and the loss : 35365.74609375\n",
      "Epoch number: 4901 and the loss : 35612.734375\n",
      "Epoch number: 4911 and the loss : 33162.37890625\n",
      "Epoch number: 4921 and the loss : 35218.5859375\n",
      "Epoch number: 4931 and the loss : 35859.91796875\n",
      "Epoch number: 4941 and the loss : 35541.6796875\n",
      "Epoch number: 4951 and the loss : 36118.25390625\n",
      "Epoch number: 4961 and the loss : 38580.31640625\n",
      "Epoch number: 4971 and the loss : 34333.12890625\n",
      "Epoch number: 4981 and the loss : 34542.4609375\n",
      "Epoch number: 4991 and the loss : 34292.578125\n"
     ]
    }
   ],
   "source": [
    "epochs=5000\n",
    "final_losses=[]\n",
    "for i in range(epochs):\n",
    "    i=i+1\n",
    "    y_pred=model(train_cat,train_cont)\n",
    "    loss=torch.sqrt(loss_function(y_pred,y_train)) ### RMSE\n",
    "    final_losses.append(loss)\n",
    "    if i%10==1:\n",
    "        print(\"Epoch number: {} and the loss : {}\".format(i,loss.item()))\n",
    "    optimizer.zero_grad()\n",
    "    loss.backward()\n",
    "    optimizer.step()"
   ]
  },
  {
   "cell_type": "code",
   "execution_count": null,
   "id": "d9b070a2",
   "metadata": {
    "papermill": {
     "duration": null,
     "end_time": null,
     "exception": null,
     "start_time": null,
     "status": "pending"
    },
    "tags": []
   },
   "outputs": [],
   "source": []
  },
  {
   "cell_type": "code",
   "execution_count": null,
   "id": "6ba82630",
   "metadata": {},
   "outputs": [],
   "source": []
  }
 ],
 "metadata": {
  "kernelspec": {
   "display_name": "Python 3",
   "language": "python",
   "name": "python3"
  },
  "language_info": {
   "codemirror_mode": {
    "name": "ipython",
    "version": 3
   },
   "file_extension": ".py",
   "mimetype": "text/x-python",
   "name": "python",
   "nbconvert_exporter": "python",
   "pygments_lexer": "ipython3",
   "version": "3.8.16"
  },
  "papermill": {
   "default_parameters": {},
   "duration": 22.639272,
   "end_time": "2023-05-19T05:53:06.535774",
   "environment_variables": {},
   "exception": true,
   "input_path": "__notebook__.ipynb",
   "output_path": "__notebook__.ipynb",
   "parameters": {},
   "start_time": "2023-05-19T05:52:43.896502",
   "version": "2.4.0"
  }
 },
 "nbformat": 4,
 "nbformat_minor": 5
}
